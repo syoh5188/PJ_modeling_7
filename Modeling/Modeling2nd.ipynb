{
  "cells": [
    {
      "cell_type": "code",
      "execution_count": null,
      "metadata": {
        "colab": {
          "base_uri": "https://localhost:8080/"
        },
        "id": "DXL8QRPz6rcK",
        "outputId": "e152b369-abde-4bd4-e427-d012a5d28b8b"
      },
      "outputs": [
        {
          "output_type": "stream",
          "name": "stdout",
          "text": [
            "Mounted at /content/drive\n"
          ]
        }
      ],
      "source": [
        "from google.colab import drive\n",
        "drive.mount('/content/drive')"
      ]
    },
    {
      "cell_type": "markdown",
      "metadata": {
        "id": "SXgBNI7K8VM-"
      },
      "source": [
        "# TeamPJ - PUBG Finish Placement Prediction (Kernels Only)\n",
        "\n",
        "#### ~ 2022 Jun 10 \n",
        "Today To do list\n",
        "- 모델링 1차 완료하기. 원하는 모델을 돌려보고, 처음 러프하게 돌려본 모델과의 차이와 이유를 분석하여 결론내기.\n",
        "\n",
        "주말동안 할 것들\n",
        "- 칼럼 : 본인이 담당한 칼럼에 대해서는 확실한 인사이트와 전처리 코드를 가져오기\n",
        "\n",
        "- 캐글 : 레퍼런스 보고 인사이트 찾기. 자신의 담당칼럼 위주. 원하면 다른 칼럼에 대한 조사 또한 가능. 하지만 이 때, 본인의 칼럼이 부실하면 안됨.\n",
        "\n",
        "- 전처리 데이터 파일 : 캐글에서 볼 때 전처리 파일은 팀에서 전처리한 CSV파일을 기반으로 진행. 캐글 레퍼런스와 결과값의 차이가 있을 때, 어떤 부분에서 차이가 있으며, 자신의 전처리코드를 어떻게 수정하면 좋을지에 대한 인사이트도 필요."
      ]
    },
    {
      "cell_type": "markdown",
      "metadata": {
        "id": "NBwb208rv0Ff"
      },
      "source": [
        "### Basic settings\n",
        "- By reducing memory usage, we can prevent the situation of kernel issue"
      ]
    },
    {
      "cell_type": "code",
      "execution_count": null,
      "metadata": {
        "id": "iXu0jldr6v18"
      },
      "outputs": [],
      "source": [
        "#Basic imports\n",
        "import pandas as pd\n",
        "import numpy as np\n",
        "import matplotlib.pyplot as plt\n",
        "import seaborn as sns"
      ]
    },
    {
      "cell_type": "code",
      "execution_count": null,
      "metadata": {
        "id": "kSZKyjfk-JYn"
      },
      "outputs": [],
      "source": [
        "# For google colab memory issue\n",
        "pd.set_option('mode.chained_assignment',  None)"
      ]
    },
    {
      "cell_type": "code",
      "execution_count": null,
      "metadata": {
        "id": "q7_7xS8-q_Sl"
      },
      "outputs": [],
      "source": [
        "# Memory saving function credit to https://www.kaggle.com/gemartin/load-data-reduce-memory-usage\n",
        "def reduce_mem_usage(df):\n",
        "    \"\"\" iterate through all the columns of a dataframe and modify the data type\n",
        "        to reduce memory usage.        \n",
        "    \"\"\"\n",
        "    start_mem = df.memory_usage().sum() / 1024**2\n",
        "    print('Memory usage of dataframe is {:.2f} MB'.format(start_mem))\n",
        "    print('{')\n",
        "    for col in df.columns:\n",
        "        col_type = df[col].dtype\n",
        "\n",
        "        if col_type != object:\n",
        "            c_min = df[col].min()\n",
        "            c_max = df[col].max()\n",
        "            if str(col_type)[:3] == 'int':\n",
        "                if c_min > np.iinfo(np.int8).min and c_max < np.iinfo(np.int8).max:\n",
        "                    df[col] = df[col].astype(np.int8)\n",
        "                elif c_min > np.iinfo(np.int16).min and c_max < np.iinfo(np.int16).max:\n",
        "                    df[col] = df[col].astype(np.int16)\n",
        "                elif c_min > np.iinfo(np.int32).min and c_max < np.iinfo(np.int32).max:\n",
        "                    df[col] = df[col].astype(np.int32)\n",
        "                elif c_min > np.iinfo(np.int64).min and c_max < np.iinfo(np.int64).max:\n",
        "                    df[col] = df[col].astype(np.int64)  \n",
        "            else:\n",
        "                if c_min > np.finfo(np.float16).min and c_max < np.finfo(np.float16).max:\n",
        "                    df[col] = df[col].astype(np.float16)\n",
        "                elif c_min > np.finfo(np.float32).min and c_max < np.finfo(np.float32).max:\n",
        "                    df[col] = df[col].astype(np.float32)\n",
        "                else:\n",
        "                    df[col] = df[col].astype(np.float64)\n",
        "        \n",
        "        col_type = str(df[col].dtype)\n",
        "        if col_type == 'object':\n",
        "            col_type = 'str'\n",
        "        else:\n",
        "            col_type = 'np.' + col_type    \n",
        "        #print('\\'' + col + '\\':' + col_type + ',')\n",
        "    end_mem = df.memory_usage().sum() / 1024**2\n",
        "    print('Memory usage after optimization is: {:.2f} MB'.format(end_mem))\n",
        "    print('Decreased by {:.1f}%'.format(100 * (start_mem - end_mem) / start_mem))\n",
        "    print('}')\n",
        "    return df"
      ]
    },
    {
      "cell_type": "code",
      "execution_count": null,
      "metadata": {
        "id": "DvM9YE2hrcQY"
      },
      "outputs": [],
      "source": [
        "def import_data(file):\n",
        "    \"\"\"create a dataframe and optimize its memory usage\"\"\"\n",
        "    df = pd.read_csv(file, parse_dates=True, keep_date_col=True)\n",
        "    df = reduce_mem_usage(df)\n",
        "    return df"
      ]
    },
    {
      "cell_type": "code",
      "execution_count": null,
      "metadata": {
        "colab": {
          "base_uri": "https://localhost:8080/"
        },
        "id": "14gSd6SJxvAU",
        "outputId": "bed9fa2d-d0d1-45b8-9a7a-466f50633b05"
      },
      "outputs": [
        {
          "output_type": "stream",
          "name": "stdout",
          "text": [
            "PUBG train\n",
            "Memory usage of dataframe is 610.70 MB\n",
            "{\n",
            "Memory usage after optimization is: 106.02 MB\n",
            "Decreased by 82.6%\n",
            "}\n",
            "PUBG test\n",
            "Memory usage of dataframe is 413.18 MB\n",
            "{\n",
            "Memory usage after optimization is: 121.74 MB\n",
            "Decreased by 70.5%\n",
            "}\n"
          ]
        }
      ],
      "source": [
        "# Jupyter notebook\n",
        "# train = import_data('./data/featured_train_2.csv')\n",
        "# test = import_data('./data/test_V2.csv')\n",
        "# pubg.head()\n",
        "\n",
        "# Google Colab\n",
        "print('PUBG train')\n",
        "train = import_data('/content/drive/MyDrive/modlingPJ/input/featured_train_2.csv')\n",
        "print('PUBG test')\n",
        "test = import_data('/content/drive/MyDrive/modlingPJ/input/test_V2.csv')"
      ]
    },
    {
      "cell_type": "code",
      "execution_count": null,
      "metadata": {
        "colab": {
          "base_uri": "https://localhost:8080/",
          "height": 176
        },
        "id": "jfhGOEsg8rDx",
        "outputId": "4cab4f29-6dbe-43b1-be61-0f966311fd5a"
      },
      "outputs": [
        {
          "output_type": "execute_result",
          "data": {
            "text/plain": [
              "   assists  boosts  damageDealt  DBNOs  headshotKills  heals  killPlace  \\\n",
              "0        0       0          0.0      0              0      0         60   \n",
              "1        0       0         91.5      0              0      0         57   \n",
              "\n",
              "   kills  longestKill  revives  rideDistance  swimDistance  vehicleDestroys  \\\n",
              "0      0          0.0        0      0.000000      0.000000                0   \n",
              "1      0          0.0        0      0.004501     11.039062                0   \n",
              "\n",
              "   walkDistance  weaponsAcquired  winPlacePerc  matchType2  cat_numGroups  \n",
              "0        244.75                1      0.444336           4              0  \n",
              "1       1434.00                5      0.640137           4              0  "
            ],
            "text/html": [
              "\n",
              "  <div id=\"df-d5dd5ae5-20c6-451e-b665-d1bf64f5f380\">\n",
              "    <div class=\"colab-df-container\">\n",
              "      <div>\n",
              "<style scoped>\n",
              "    .dataframe tbody tr th:only-of-type {\n",
              "        vertical-align: middle;\n",
              "    }\n",
              "\n",
              "    .dataframe tbody tr th {\n",
              "        vertical-align: top;\n",
              "    }\n",
              "\n",
              "    .dataframe thead th {\n",
              "        text-align: right;\n",
              "    }\n",
              "</style>\n",
              "<table border=\"1\" class=\"dataframe\">\n",
              "  <thead>\n",
              "    <tr style=\"text-align: right;\">\n",
              "      <th></th>\n",
              "      <th>assists</th>\n",
              "      <th>boosts</th>\n",
              "      <th>damageDealt</th>\n",
              "      <th>DBNOs</th>\n",
              "      <th>headshotKills</th>\n",
              "      <th>heals</th>\n",
              "      <th>killPlace</th>\n",
              "      <th>kills</th>\n",
              "      <th>longestKill</th>\n",
              "      <th>revives</th>\n",
              "      <th>rideDistance</th>\n",
              "      <th>swimDistance</th>\n",
              "      <th>vehicleDestroys</th>\n",
              "      <th>walkDistance</th>\n",
              "      <th>weaponsAcquired</th>\n",
              "      <th>winPlacePerc</th>\n",
              "      <th>matchType2</th>\n",
              "      <th>cat_numGroups</th>\n",
              "    </tr>\n",
              "  </thead>\n",
              "  <tbody>\n",
              "    <tr>\n",
              "      <th>0</th>\n",
              "      <td>0</td>\n",
              "      <td>0</td>\n",
              "      <td>0.0</td>\n",
              "      <td>0</td>\n",
              "      <td>0</td>\n",
              "      <td>0</td>\n",
              "      <td>60</td>\n",
              "      <td>0</td>\n",
              "      <td>0.0</td>\n",
              "      <td>0</td>\n",
              "      <td>0.000000</td>\n",
              "      <td>0.000000</td>\n",
              "      <td>0</td>\n",
              "      <td>244.75</td>\n",
              "      <td>1</td>\n",
              "      <td>0.444336</td>\n",
              "      <td>4</td>\n",
              "      <td>0</td>\n",
              "    </tr>\n",
              "    <tr>\n",
              "      <th>1</th>\n",
              "      <td>0</td>\n",
              "      <td>0</td>\n",
              "      <td>91.5</td>\n",
              "      <td>0</td>\n",
              "      <td>0</td>\n",
              "      <td>0</td>\n",
              "      <td>57</td>\n",
              "      <td>0</td>\n",
              "      <td>0.0</td>\n",
              "      <td>0</td>\n",
              "      <td>0.004501</td>\n",
              "      <td>11.039062</td>\n",
              "      <td>0</td>\n",
              "      <td>1434.00</td>\n",
              "      <td>5</td>\n",
              "      <td>0.640137</td>\n",
              "      <td>4</td>\n",
              "      <td>0</td>\n",
              "    </tr>\n",
              "  </tbody>\n",
              "</table>\n",
              "</div>\n",
              "      <button class=\"colab-df-convert\" onclick=\"convertToInteractive('df-d5dd5ae5-20c6-451e-b665-d1bf64f5f380')\"\n",
              "              title=\"Convert this dataframe to an interactive table.\"\n",
              "              style=\"display:none;\">\n",
              "        \n",
              "  <svg xmlns=\"http://www.w3.org/2000/svg\" height=\"24px\"viewBox=\"0 0 24 24\"\n",
              "       width=\"24px\">\n",
              "    <path d=\"M0 0h24v24H0V0z\" fill=\"none\"/>\n",
              "    <path d=\"M18.56 5.44l.94 2.06.94-2.06 2.06-.94-2.06-.94-.94-2.06-.94 2.06-2.06.94zm-11 1L8.5 8.5l.94-2.06 2.06-.94-2.06-.94L8.5 2.5l-.94 2.06-2.06.94zm10 10l.94 2.06.94-2.06 2.06-.94-2.06-.94-.94-2.06-.94 2.06-2.06.94z\"/><path d=\"M17.41 7.96l-1.37-1.37c-.4-.4-.92-.59-1.43-.59-.52 0-1.04.2-1.43.59L10.3 9.45l-7.72 7.72c-.78.78-.78 2.05 0 2.83L4 21.41c.39.39.9.59 1.41.59.51 0 1.02-.2 1.41-.59l7.78-7.78 2.81-2.81c.8-.78.8-2.07 0-2.86zM5.41 20L4 18.59l7.72-7.72 1.47 1.35L5.41 20z\"/>\n",
              "  </svg>\n",
              "      </button>\n",
              "      \n",
              "  <style>\n",
              "    .colab-df-container {\n",
              "      display:flex;\n",
              "      flex-wrap:wrap;\n",
              "      gap: 12px;\n",
              "    }\n",
              "\n",
              "    .colab-df-convert {\n",
              "      background-color: #E8F0FE;\n",
              "      border: none;\n",
              "      border-radius: 50%;\n",
              "      cursor: pointer;\n",
              "      display: none;\n",
              "      fill: #1967D2;\n",
              "      height: 32px;\n",
              "      padding: 0 0 0 0;\n",
              "      width: 32px;\n",
              "    }\n",
              "\n",
              "    .colab-df-convert:hover {\n",
              "      background-color: #E2EBFA;\n",
              "      box-shadow: 0px 1px 2px rgba(60, 64, 67, 0.3), 0px 1px 3px 1px rgba(60, 64, 67, 0.15);\n",
              "      fill: #174EA6;\n",
              "    }\n",
              "\n",
              "    [theme=dark] .colab-df-convert {\n",
              "      background-color: #3B4455;\n",
              "      fill: #D2E3FC;\n",
              "    }\n",
              "\n",
              "    [theme=dark] .colab-df-convert:hover {\n",
              "      background-color: #434B5C;\n",
              "      box-shadow: 0px 1px 3px 1px rgba(0, 0, 0, 0.15);\n",
              "      filter: drop-shadow(0px 1px 2px rgba(0, 0, 0, 0.3));\n",
              "      fill: #FFFFFF;\n",
              "    }\n",
              "  </style>\n",
              "\n",
              "      <script>\n",
              "        const buttonEl =\n",
              "          document.querySelector('#df-d5dd5ae5-20c6-451e-b665-d1bf64f5f380 button.colab-df-convert');\n",
              "        buttonEl.style.display =\n",
              "          google.colab.kernel.accessAllowed ? 'block' : 'none';\n",
              "\n",
              "        async function convertToInteractive(key) {\n",
              "          const element = document.querySelector('#df-d5dd5ae5-20c6-451e-b665-d1bf64f5f380');\n",
              "          const dataTable =\n",
              "            await google.colab.kernel.invokeFunction('convertToInteractive',\n",
              "                                                     [key], {});\n",
              "          if (!dataTable) return;\n",
              "\n",
              "          const docLinkHtml = 'Like what you see? Visit the ' +\n",
              "            '<a target=\"_blank\" href=https://colab.research.google.com/notebooks/data_table.ipynb>data table notebook</a>'\n",
              "            + ' to learn more about interactive tables.';\n",
              "          element.innerHTML = '';\n",
              "          dataTable['output_type'] = 'display_data';\n",
              "          await google.colab.output.renderOutput(dataTable, element);\n",
              "          const docLink = document.createElement('div');\n",
              "          docLink.innerHTML = docLinkHtml;\n",
              "          element.appendChild(docLink);\n",
              "        }\n",
              "      </script>\n",
              "    </div>\n",
              "  </div>\n",
              "  "
            ]
          },
          "metadata": {},
          "execution_count": 7
        }
      ],
      "source": [
        "# Show every columns\n",
        "pd.set_option('display.max_columns', 30)\n",
        "pd.get_option(\"display.max_rows\")\n",
        "train.head(2)"
      ]
    },
    {
      "cell_type": "code",
      "execution_count": null,
      "metadata": {
        "colab": {
          "base_uri": "https://localhost:8080/",
          "height": 270
        },
        "id": "-98_rr1E6xUJ",
        "outputId": "a6ee87ff-bf3c-4abc-af47-bee9c7e20919"
      },
      "outputs": [
        {
          "output_type": "execute_result",
          "data": {
            "text/plain": [
              "   assists  boosts  damageDealt  DBNOs  headshotKills  heals  killPlace  \\\n",
              "0        0       0      0.00000      0              0      0         60   \n",
              "1        0       0     91.50000      0              0      0         57   \n",
              "2        1       0     68.00000      0              0      0         47   \n",
              "3        0       0     32.90625      0              0      0         75   \n",
              "4        0       0    100.00000      0              0      0         45   \n",
              "\n",
              "   kills  longestKill  revives  rideDistance  swimDistance  vehicleDestroys  \\\n",
              "0      0      0.00000        0      0.000000      0.000000                0   \n",
              "1      0      0.00000        0      0.004501     11.039062                0   \n",
              "2      0      0.00000        0      0.000000      0.000000                0   \n",
              "3      0      0.00000        0      0.000000      0.000000                0   \n",
              "4      1     58.53125        0      0.000000      0.000000                0   \n",
              "\n",
              "   walkDistance  weaponsAcquired  winPlacePerc  matchType2  cat_numGroups  \n",
              "0        244.75                1      0.444336           4              0  \n",
              "1       1434.00                5      0.640137           4              0  \n",
              "2        161.75                2      0.775391           2              1  \n",
              "3        202.75                3      0.166748           4              0  \n",
              "4         49.75                2      0.187500           1              2  "
            ],
            "text/html": [
              "\n",
              "  <div id=\"df-97c3e3f7-cf9d-4cfb-8c34-4c0cf272f9c1\">\n",
              "    <div class=\"colab-df-container\">\n",
              "      <div>\n",
              "<style scoped>\n",
              "    .dataframe tbody tr th:only-of-type {\n",
              "        vertical-align: middle;\n",
              "    }\n",
              "\n",
              "    .dataframe tbody tr th {\n",
              "        vertical-align: top;\n",
              "    }\n",
              "\n",
              "    .dataframe thead th {\n",
              "        text-align: right;\n",
              "    }\n",
              "</style>\n",
              "<table border=\"1\" class=\"dataframe\">\n",
              "  <thead>\n",
              "    <tr style=\"text-align: right;\">\n",
              "      <th></th>\n",
              "      <th>assists</th>\n",
              "      <th>boosts</th>\n",
              "      <th>damageDealt</th>\n",
              "      <th>DBNOs</th>\n",
              "      <th>headshotKills</th>\n",
              "      <th>heals</th>\n",
              "      <th>killPlace</th>\n",
              "      <th>kills</th>\n",
              "      <th>longestKill</th>\n",
              "      <th>revives</th>\n",
              "      <th>rideDistance</th>\n",
              "      <th>swimDistance</th>\n",
              "      <th>vehicleDestroys</th>\n",
              "      <th>walkDistance</th>\n",
              "      <th>weaponsAcquired</th>\n",
              "      <th>winPlacePerc</th>\n",
              "      <th>matchType2</th>\n",
              "      <th>cat_numGroups</th>\n",
              "    </tr>\n",
              "  </thead>\n",
              "  <tbody>\n",
              "    <tr>\n",
              "      <th>0</th>\n",
              "      <td>0</td>\n",
              "      <td>0</td>\n",
              "      <td>0.00000</td>\n",
              "      <td>0</td>\n",
              "      <td>0</td>\n",
              "      <td>0</td>\n",
              "      <td>60</td>\n",
              "      <td>0</td>\n",
              "      <td>0.00000</td>\n",
              "      <td>0</td>\n",
              "      <td>0.000000</td>\n",
              "      <td>0.000000</td>\n",
              "      <td>0</td>\n",
              "      <td>244.75</td>\n",
              "      <td>1</td>\n",
              "      <td>0.444336</td>\n",
              "      <td>4</td>\n",
              "      <td>0</td>\n",
              "    </tr>\n",
              "    <tr>\n",
              "      <th>1</th>\n",
              "      <td>0</td>\n",
              "      <td>0</td>\n",
              "      <td>91.50000</td>\n",
              "      <td>0</td>\n",
              "      <td>0</td>\n",
              "      <td>0</td>\n",
              "      <td>57</td>\n",
              "      <td>0</td>\n",
              "      <td>0.00000</td>\n",
              "      <td>0</td>\n",
              "      <td>0.004501</td>\n",
              "      <td>11.039062</td>\n",
              "      <td>0</td>\n",
              "      <td>1434.00</td>\n",
              "      <td>5</td>\n",
              "      <td>0.640137</td>\n",
              "      <td>4</td>\n",
              "      <td>0</td>\n",
              "    </tr>\n",
              "    <tr>\n",
              "      <th>2</th>\n",
              "      <td>1</td>\n",
              "      <td>0</td>\n",
              "      <td>68.00000</td>\n",
              "      <td>0</td>\n",
              "      <td>0</td>\n",
              "      <td>0</td>\n",
              "      <td>47</td>\n",
              "      <td>0</td>\n",
              "      <td>0.00000</td>\n",
              "      <td>0</td>\n",
              "      <td>0.000000</td>\n",
              "      <td>0.000000</td>\n",
              "      <td>0</td>\n",
              "      <td>161.75</td>\n",
              "      <td>2</td>\n",
              "      <td>0.775391</td>\n",
              "      <td>2</td>\n",
              "      <td>1</td>\n",
              "    </tr>\n",
              "    <tr>\n",
              "      <th>3</th>\n",
              "      <td>0</td>\n",
              "      <td>0</td>\n",
              "      <td>32.90625</td>\n",
              "      <td>0</td>\n",
              "      <td>0</td>\n",
              "      <td>0</td>\n",
              "      <td>75</td>\n",
              "      <td>0</td>\n",
              "      <td>0.00000</td>\n",
              "      <td>0</td>\n",
              "      <td>0.000000</td>\n",
              "      <td>0.000000</td>\n",
              "      <td>0</td>\n",
              "      <td>202.75</td>\n",
              "      <td>3</td>\n",
              "      <td>0.166748</td>\n",
              "      <td>4</td>\n",
              "      <td>0</td>\n",
              "    </tr>\n",
              "    <tr>\n",
              "      <th>4</th>\n",
              "      <td>0</td>\n",
              "      <td>0</td>\n",
              "      <td>100.00000</td>\n",
              "      <td>0</td>\n",
              "      <td>0</td>\n",
              "      <td>0</td>\n",
              "      <td>45</td>\n",
              "      <td>1</td>\n",
              "      <td>58.53125</td>\n",
              "      <td>0</td>\n",
              "      <td>0.000000</td>\n",
              "      <td>0.000000</td>\n",
              "      <td>0</td>\n",
              "      <td>49.75</td>\n",
              "      <td>2</td>\n",
              "      <td>0.187500</td>\n",
              "      <td>1</td>\n",
              "      <td>2</td>\n",
              "    </tr>\n",
              "  </tbody>\n",
              "</table>\n",
              "</div>\n",
              "      <button class=\"colab-df-convert\" onclick=\"convertToInteractive('df-97c3e3f7-cf9d-4cfb-8c34-4c0cf272f9c1')\"\n",
              "              title=\"Convert this dataframe to an interactive table.\"\n",
              "              style=\"display:none;\">\n",
              "        \n",
              "  <svg xmlns=\"http://www.w3.org/2000/svg\" height=\"24px\"viewBox=\"0 0 24 24\"\n",
              "       width=\"24px\">\n",
              "    <path d=\"M0 0h24v24H0V0z\" fill=\"none\"/>\n",
              "    <path d=\"M18.56 5.44l.94 2.06.94-2.06 2.06-.94-2.06-.94-.94-2.06-.94 2.06-2.06.94zm-11 1L8.5 8.5l.94-2.06 2.06-.94-2.06-.94L8.5 2.5l-.94 2.06-2.06.94zm10 10l.94 2.06.94-2.06 2.06-.94-2.06-.94-.94-2.06-.94 2.06-2.06.94z\"/><path d=\"M17.41 7.96l-1.37-1.37c-.4-.4-.92-.59-1.43-.59-.52 0-1.04.2-1.43.59L10.3 9.45l-7.72 7.72c-.78.78-.78 2.05 0 2.83L4 21.41c.39.39.9.59 1.41.59.51 0 1.02-.2 1.41-.59l7.78-7.78 2.81-2.81c.8-.78.8-2.07 0-2.86zM5.41 20L4 18.59l7.72-7.72 1.47 1.35L5.41 20z\"/>\n",
              "  </svg>\n",
              "      </button>\n",
              "      \n",
              "  <style>\n",
              "    .colab-df-container {\n",
              "      display:flex;\n",
              "      flex-wrap:wrap;\n",
              "      gap: 12px;\n",
              "    }\n",
              "\n",
              "    .colab-df-convert {\n",
              "      background-color: #E8F0FE;\n",
              "      border: none;\n",
              "      border-radius: 50%;\n",
              "      cursor: pointer;\n",
              "      display: none;\n",
              "      fill: #1967D2;\n",
              "      height: 32px;\n",
              "      padding: 0 0 0 0;\n",
              "      width: 32px;\n",
              "    }\n",
              "\n",
              "    .colab-df-convert:hover {\n",
              "      background-color: #E2EBFA;\n",
              "      box-shadow: 0px 1px 2px rgba(60, 64, 67, 0.3), 0px 1px 3px 1px rgba(60, 64, 67, 0.15);\n",
              "      fill: #174EA6;\n",
              "    }\n",
              "\n",
              "    [theme=dark] .colab-df-convert {\n",
              "      background-color: #3B4455;\n",
              "      fill: #D2E3FC;\n",
              "    }\n",
              "\n",
              "    [theme=dark] .colab-df-convert:hover {\n",
              "      background-color: #434B5C;\n",
              "      box-shadow: 0px 1px 3px 1px rgba(0, 0, 0, 0.15);\n",
              "      filter: drop-shadow(0px 1px 2px rgba(0, 0, 0, 0.3));\n",
              "      fill: #FFFFFF;\n",
              "    }\n",
              "  </style>\n",
              "\n",
              "      <script>\n",
              "        const buttonEl =\n",
              "          document.querySelector('#df-97c3e3f7-cf9d-4cfb-8c34-4c0cf272f9c1 button.colab-df-convert');\n",
              "        buttonEl.style.display =\n",
              "          google.colab.kernel.accessAllowed ? 'block' : 'none';\n",
              "\n",
              "        async function convertToInteractive(key) {\n",
              "          const element = document.querySelector('#df-97c3e3f7-cf9d-4cfb-8c34-4c0cf272f9c1');\n",
              "          const dataTable =\n",
              "            await google.colab.kernel.invokeFunction('convertToInteractive',\n",
              "                                                     [key], {});\n",
              "          if (!dataTable) return;\n",
              "\n",
              "          const docLinkHtml = 'Like what you see? Visit the ' +\n",
              "            '<a target=\"_blank\" href=https://colab.research.google.com/notebooks/data_table.ipynb>data table notebook</a>'\n",
              "            + ' to learn more about interactive tables.';\n",
              "          element.innerHTML = '';\n",
              "          dataTable['output_type'] = 'display_data';\n",
              "          await google.colab.output.renderOutput(dataTable, element);\n",
              "          const docLink = document.createElement('div');\n",
              "          docLink.innerHTML = docLinkHtml;\n",
              "          element.appendChild(docLink);\n",
              "        }\n",
              "      </script>\n",
              "    </div>\n",
              "  </div>\n",
              "  "
            ]
          },
          "metadata": {},
          "execution_count": 8
        }
      ],
      "source": [
        "pubg = train.copy()\n",
        "pubg.head()"
      ]
    },
    {
      "cell_type": "code",
      "execution_count": null,
      "metadata": {
        "colab": {
          "base_uri": "https://localhost:8080/"
        },
        "id": "phrG9VpTv0Fn",
        "outputId": "7eeb7c3e-9de5-4676-dbd1-487811feb9fa"
      },
      "outputs": [
        {
          "output_type": "execute_result",
          "data": {
            "text/plain": [
              "0    2455328\n",
              "1    1297627\n",
              "2     694010\n",
              "Name: cat_numGroups, dtype: int64"
            ]
          },
          "metadata": {},
          "execution_count": 9
        }
      ],
      "source": [
        "pubg.cat_numGroups.value_counts()"
      ]
    },
    {
      "cell_type": "code",
      "execution_count": null,
      "metadata": {
        "colab": {
          "base_uri": "https://localhost:8080/"
        },
        "id": "n7X2aMNC65MN",
        "outputId": "cf1dc25a-f793-41d5-d7d1-1a9aaca107af"
      },
      "outputs": [
        {
          "output_type": "stream",
          "name": "stdout",
          "text": [
            "<class 'pandas.core.frame.DataFrame'>\n",
            "RangeIndex: 4446965 entries, 0 to 4446964\n",
            "Data columns (total 18 columns):\n",
            " #   Column           Dtype  \n",
            "---  ------           -----  \n",
            " 0   assists          int8   \n",
            " 1   boosts           int8   \n",
            " 2   damageDealt      float16\n",
            " 3   DBNOs            int8   \n",
            " 4   headshotKills    int8   \n",
            " 5   heals            int8   \n",
            " 6   killPlace        int8   \n",
            " 7   kills            int8   \n",
            " 8   longestKill      float16\n",
            " 9   revives          int8   \n",
            " 10  rideDistance     float16\n",
            " 11  swimDistance     float16\n",
            " 12  vehicleDestroys  int8   \n",
            " 13  walkDistance     float16\n",
            " 14  weaponsAcquired  int16  \n",
            " 15  winPlacePerc     float16\n",
            " 16  matchType2       int8   \n",
            " 17  cat_numGroups    int8   \n",
            "dtypes: float16(6), int16(1), int8(11)\n",
            "memory usage: 106.0 MB\n"
          ]
        }
      ],
      "source": [
        "# information of df\n",
        "pubg.info()"
      ]
    },
    {
      "cell_type": "markdown",
      "metadata": {
        "id": "m0LFQNls8cVB"
      },
      "source": [
        "#### Data fields - After preprocessing data\n",
        "\n",
        "**== dropped ==**\n",
        "- Id - Player’s Id => **drop**\n",
        "- groupId - ID to identify a group within a match. If the same group of players plays in different matches, they will have a different groupId each time.  => **drop**\n",
        "- matchId - ID to identify match. There are no matches that are in both the training and testing set.  => **drop**\n",
        "- matchType - String identifying the game mode that the data comes from. The standard modes are “solo”, “duo”, “squad”, “solo-fpp”, “duo-fpp”, and “squad-fpp”; other modes are from events or custom matches.  => **drop**\n",
        "- matchDuration - Duration of match in seconds.  => **drop**\n",
        "- numGroups - Number of groups we have data for in the match.  => **drop**\n",
        "- rankPoints - Elo-like ranking of player. This ranking is inconsistent and is being deprecated in the API’s next version, so use with caution. Value of -1 takes place of “None”.  => **drop**\n",
        "- roadKills - Number of kills while in a vehicle.  => **drop**\n",
        "- teamKills - Number of times this player killed a teammate.  => **drop**\n",
        "- winPoints - Win-based external ranking of player. (Think of this as an Elo ranking where only winning matters.) If there is a value other than -1 in rankPoints, then any 0 in winPoints should be treated as a “None”.  => **drop**\n",
        "- killPoints - Kills-based external ranking of player. (Think of this as an Elo ranking where only kills matter.) If there is a value other than -1 in rankPoints, then any 0 in killPoints should be treated as a “None”.  => **drop**\n",
        "- maxPlace - Worst placement we have data for in the match. This may not match with numGroups, as sometimes the data skips over placements.  => **drop**\n",
        "\n",
        "\n",
        "**== using ==**\n",
        "- DBNOs - Number of enemy players knocked.\n",
        "- assists - Number of enemy players this player damaged that were killed by teammates.\n",
        "- boosts - Number of boost items used.\n",
        "- damageDealt - Total damage dealt. Note: Self inflicted damage is subtracted.\n",
        "- headshotKills - Number of enemy players killed with headshots.\n",
        "- heals - Number of healing items used.\n",
        "- killPlace - Ranking in match of number of enemy players killed.\n",
        "- killStreaks - Max number of enemy players killed in a short amount of time.\n",
        "- kills - Number of enemy players killed.\n",
        "- longestKill - Longest distance between player and player killed at time of death. This may be misleading, as downing a player and driving away may lead to a large longestKill stat.\n",
        "- revives - Number of times this player revived teammates.\n",
        "- rideDistance - Total distance traveled in vehicles measured in meters.\n",
        "- swimDistance - Total distance traveled by swimming measured in meters.\n",
        "- vehicleDestroys - Number of vehicles destroyed.\n",
        "- walkDistance - Total distance traveled on foot measured in meters.\n",
        "- weaponsAcquired - Number of weapons picked up.\n",
        "- winPlacePerc - The target of prediction. This is a percentile winning placement, where 1 corresponds to 1st place, and 0 corresponds to last place in the match. It is calculated off of maxPlace, not numGroups, so it is possible to have missing chunks in a match.\n",
        "\n",
        "\n",
        "**== Added ==**\n",
        "- matchType2 - simplify match type as 0: flare & crash, 1 : solo, 2 : duo, 4 : squad and drop matchType\n",
        "- cat_numGroups - simplify nunmGroups as if nunmGroups < 40 : 0, if numGroups > 40 & numGroups < 80 : 1, numGroups > 80 : 2 and drop numGroups\n",
        "\n"
      ]
    },
    {
      "cell_type": "code",
      "execution_count": null,
      "metadata": {
        "colab": {
          "base_uri": "https://localhost:8080/",
          "height": 364
        },
        "id": "jJEwaVcc668-",
        "outputId": "9e026d45-58a5-47e3-bd7a-3fcfd40ae916"
      },
      "outputs": [
        {
          "output_type": "execute_result",
          "data": {
            "text/plain": [
              "            assists        boosts  damageDealt         DBNOs  headshotKills  \\\n",
              "count  4.446965e+06  4.446965e+06   4446965.00  4.446965e+06   4.446965e+06   \n",
              "mean   2.338150e-01  1.106908e+00          NaN  6.578757e-01   2.268196e-01   \n",
              "std    5.885731e-01  1.715794e+00          NaN  1.145743e+00   6.021553e-01   \n",
              "min    0.000000e+00  0.000000e+00         0.00  0.000000e+00   0.000000e+00   \n",
              "25%    0.000000e+00  0.000000e+00         0.00  0.000000e+00   0.000000e+00   \n",
              "50%    0.000000e+00  0.000000e+00        84.25  0.000000e+00   0.000000e+00   \n",
              "75%    0.000000e+00  2.000000e+00       186.00  1.000000e+00   0.000000e+00   \n",
              "max    2.200000e+01  3.300000e+01      6616.00  5.300000e+01   6.400000e+01   \n",
              "\n",
              "              heals     killPlace         kills   longestKill       revives  \\\n",
              "count  4.446965e+06  4.446965e+06  4.446965e+06  4.446965e+06  4.446965e+06   \n",
              "mean   1.370148e+00  4.759936e+01  9.247835e-01           NaN  1.646590e-01   \n",
              "std    2.679982e+00  2.746293e+01  1.558445e+00           NaN  4.721671e-01   \n",
              "min    0.000000e+00  1.000000e+00  0.000000e+00  0.000000e+00  0.000000e+00   \n",
              "25%    0.000000e+00  2.400000e+01  0.000000e+00  0.000000e+00  0.000000e+00   \n",
              "50%    0.000000e+00  4.700000e+01  0.000000e+00  0.000000e+00  0.000000e+00   \n",
              "75%    2.000000e+00  7.100000e+01  1.000000e+00  2.131250e+01  0.000000e+00   \n",
              "max    8.000000e+01  1.010000e+02  7.200000e+01  1.094000e+03  3.900000e+01   \n",
              "\n",
              "       rideDistance  swimDistance  vehicleDestroys  walkDistance  \\\n",
              "count  4.446965e+06     4446965.0     4.446965e+06   4446965.000   \n",
              "mean            NaN           NaN     7.918209e-03           NaN   \n",
              "std             NaN           NaN     9.261158e-02           NaN   \n",
              "min    0.000000e+00           0.0     0.000000e+00         0.000   \n",
              "25%    0.000000e+00           0.0     0.000000e+00       155.125   \n",
              "50%    0.000000e+00           0.0     0.000000e+00       685.500   \n",
              "75%    1.910400e-01           0.0     0.000000e+00      1976.000   \n",
              "max    4.070400e+04        3824.0     5.000000e+00     25776.000   \n",
              "\n",
              "       weaponsAcquired  winPlacePerc    matchType2  cat_numGroups  \n",
              "count     4.446965e+06  4.446965e+06  4.446965e+06   4.446965e+06  \n",
              "mean      3.660488e+00           NaN  2.913056e+00   6.039281e-01  \n",
              "std       2.456543e+00  0.000000e+00  1.223283e+00   7.425137e-01  \n",
              "min       0.000000e+00  0.000000e+00  0.000000e+00   0.000000e+00  \n",
              "25%       2.000000e+00  1.999512e-01  2.000000e+00   0.000000e+00  \n",
              "50%       3.000000e+00  4.582520e-01  4.000000e+00   0.000000e+00  \n",
              "75%       5.000000e+00  7.407227e-01  4.000000e+00   1.000000e+00  \n",
              "max       2.360000e+02  1.000000e+00  4.000000e+00   2.000000e+00  "
            ],
            "text/html": [
              "\n",
              "  <div id=\"df-4256ac64-c1fe-4ab5-9eb6-466cd984146f\">\n",
              "    <div class=\"colab-df-container\">\n",
              "      <div>\n",
              "<style scoped>\n",
              "    .dataframe tbody tr th:only-of-type {\n",
              "        vertical-align: middle;\n",
              "    }\n",
              "\n",
              "    .dataframe tbody tr th {\n",
              "        vertical-align: top;\n",
              "    }\n",
              "\n",
              "    .dataframe thead th {\n",
              "        text-align: right;\n",
              "    }\n",
              "</style>\n",
              "<table border=\"1\" class=\"dataframe\">\n",
              "  <thead>\n",
              "    <tr style=\"text-align: right;\">\n",
              "      <th></th>\n",
              "      <th>assists</th>\n",
              "      <th>boosts</th>\n",
              "      <th>damageDealt</th>\n",
              "      <th>DBNOs</th>\n",
              "      <th>headshotKills</th>\n",
              "      <th>heals</th>\n",
              "      <th>killPlace</th>\n",
              "      <th>kills</th>\n",
              "      <th>longestKill</th>\n",
              "      <th>revives</th>\n",
              "      <th>rideDistance</th>\n",
              "      <th>swimDistance</th>\n",
              "      <th>vehicleDestroys</th>\n",
              "      <th>walkDistance</th>\n",
              "      <th>weaponsAcquired</th>\n",
              "      <th>winPlacePerc</th>\n",
              "      <th>matchType2</th>\n",
              "      <th>cat_numGroups</th>\n",
              "    </tr>\n",
              "  </thead>\n",
              "  <tbody>\n",
              "    <tr>\n",
              "      <th>count</th>\n",
              "      <td>4.446965e+06</td>\n",
              "      <td>4.446965e+06</td>\n",
              "      <td>4446965.00</td>\n",
              "      <td>4.446965e+06</td>\n",
              "      <td>4.446965e+06</td>\n",
              "      <td>4.446965e+06</td>\n",
              "      <td>4.446965e+06</td>\n",
              "      <td>4.446965e+06</td>\n",
              "      <td>4.446965e+06</td>\n",
              "      <td>4.446965e+06</td>\n",
              "      <td>4.446965e+06</td>\n",
              "      <td>4446965.0</td>\n",
              "      <td>4.446965e+06</td>\n",
              "      <td>4446965.000</td>\n",
              "      <td>4.446965e+06</td>\n",
              "      <td>4.446965e+06</td>\n",
              "      <td>4.446965e+06</td>\n",
              "      <td>4.446965e+06</td>\n",
              "    </tr>\n",
              "    <tr>\n",
              "      <th>mean</th>\n",
              "      <td>2.338150e-01</td>\n",
              "      <td>1.106908e+00</td>\n",
              "      <td>NaN</td>\n",
              "      <td>6.578757e-01</td>\n",
              "      <td>2.268196e-01</td>\n",
              "      <td>1.370148e+00</td>\n",
              "      <td>4.759936e+01</td>\n",
              "      <td>9.247835e-01</td>\n",
              "      <td>NaN</td>\n",
              "      <td>1.646590e-01</td>\n",
              "      <td>NaN</td>\n",
              "      <td>NaN</td>\n",
              "      <td>7.918209e-03</td>\n",
              "      <td>NaN</td>\n",
              "      <td>3.660488e+00</td>\n",
              "      <td>NaN</td>\n",
              "      <td>2.913056e+00</td>\n",
              "      <td>6.039281e-01</td>\n",
              "    </tr>\n",
              "    <tr>\n",
              "      <th>std</th>\n",
              "      <td>5.885731e-01</td>\n",
              "      <td>1.715794e+00</td>\n",
              "      <td>NaN</td>\n",
              "      <td>1.145743e+00</td>\n",
              "      <td>6.021553e-01</td>\n",
              "      <td>2.679982e+00</td>\n",
              "      <td>2.746293e+01</td>\n",
              "      <td>1.558445e+00</td>\n",
              "      <td>NaN</td>\n",
              "      <td>4.721671e-01</td>\n",
              "      <td>NaN</td>\n",
              "      <td>NaN</td>\n",
              "      <td>9.261158e-02</td>\n",
              "      <td>NaN</td>\n",
              "      <td>2.456543e+00</td>\n",
              "      <td>0.000000e+00</td>\n",
              "      <td>1.223283e+00</td>\n",
              "      <td>7.425137e-01</td>\n",
              "    </tr>\n",
              "    <tr>\n",
              "      <th>min</th>\n",
              "      <td>0.000000e+00</td>\n",
              "      <td>0.000000e+00</td>\n",
              "      <td>0.00</td>\n",
              "      <td>0.000000e+00</td>\n",
              "      <td>0.000000e+00</td>\n",
              "      <td>0.000000e+00</td>\n",
              "      <td>1.000000e+00</td>\n",
              "      <td>0.000000e+00</td>\n",
              "      <td>0.000000e+00</td>\n",
              "      <td>0.000000e+00</td>\n",
              "      <td>0.000000e+00</td>\n",
              "      <td>0.0</td>\n",
              "      <td>0.000000e+00</td>\n",
              "      <td>0.000</td>\n",
              "      <td>0.000000e+00</td>\n",
              "      <td>0.000000e+00</td>\n",
              "      <td>0.000000e+00</td>\n",
              "      <td>0.000000e+00</td>\n",
              "    </tr>\n",
              "    <tr>\n",
              "      <th>25%</th>\n",
              "      <td>0.000000e+00</td>\n",
              "      <td>0.000000e+00</td>\n",
              "      <td>0.00</td>\n",
              "      <td>0.000000e+00</td>\n",
              "      <td>0.000000e+00</td>\n",
              "      <td>0.000000e+00</td>\n",
              "      <td>2.400000e+01</td>\n",
              "      <td>0.000000e+00</td>\n",
              "      <td>0.000000e+00</td>\n",
              "      <td>0.000000e+00</td>\n",
              "      <td>0.000000e+00</td>\n",
              "      <td>0.0</td>\n",
              "      <td>0.000000e+00</td>\n",
              "      <td>155.125</td>\n",
              "      <td>2.000000e+00</td>\n",
              "      <td>1.999512e-01</td>\n",
              "      <td>2.000000e+00</td>\n",
              "      <td>0.000000e+00</td>\n",
              "    </tr>\n",
              "    <tr>\n",
              "      <th>50%</th>\n",
              "      <td>0.000000e+00</td>\n",
              "      <td>0.000000e+00</td>\n",
              "      <td>84.25</td>\n",
              "      <td>0.000000e+00</td>\n",
              "      <td>0.000000e+00</td>\n",
              "      <td>0.000000e+00</td>\n",
              "      <td>4.700000e+01</td>\n",
              "      <td>0.000000e+00</td>\n",
              "      <td>0.000000e+00</td>\n",
              "      <td>0.000000e+00</td>\n",
              "      <td>0.000000e+00</td>\n",
              "      <td>0.0</td>\n",
              "      <td>0.000000e+00</td>\n",
              "      <td>685.500</td>\n",
              "      <td>3.000000e+00</td>\n",
              "      <td>4.582520e-01</td>\n",
              "      <td>4.000000e+00</td>\n",
              "      <td>0.000000e+00</td>\n",
              "    </tr>\n",
              "    <tr>\n",
              "      <th>75%</th>\n",
              "      <td>0.000000e+00</td>\n",
              "      <td>2.000000e+00</td>\n",
              "      <td>186.00</td>\n",
              "      <td>1.000000e+00</td>\n",
              "      <td>0.000000e+00</td>\n",
              "      <td>2.000000e+00</td>\n",
              "      <td>7.100000e+01</td>\n",
              "      <td>1.000000e+00</td>\n",
              "      <td>2.131250e+01</td>\n",
              "      <td>0.000000e+00</td>\n",
              "      <td>1.910400e-01</td>\n",
              "      <td>0.0</td>\n",
              "      <td>0.000000e+00</td>\n",
              "      <td>1976.000</td>\n",
              "      <td>5.000000e+00</td>\n",
              "      <td>7.407227e-01</td>\n",
              "      <td>4.000000e+00</td>\n",
              "      <td>1.000000e+00</td>\n",
              "    </tr>\n",
              "    <tr>\n",
              "      <th>max</th>\n",
              "      <td>2.200000e+01</td>\n",
              "      <td>3.300000e+01</td>\n",
              "      <td>6616.00</td>\n",
              "      <td>5.300000e+01</td>\n",
              "      <td>6.400000e+01</td>\n",
              "      <td>8.000000e+01</td>\n",
              "      <td>1.010000e+02</td>\n",
              "      <td>7.200000e+01</td>\n",
              "      <td>1.094000e+03</td>\n",
              "      <td>3.900000e+01</td>\n",
              "      <td>4.070400e+04</td>\n",
              "      <td>3824.0</td>\n",
              "      <td>5.000000e+00</td>\n",
              "      <td>25776.000</td>\n",
              "      <td>2.360000e+02</td>\n",
              "      <td>1.000000e+00</td>\n",
              "      <td>4.000000e+00</td>\n",
              "      <td>2.000000e+00</td>\n",
              "    </tr>\n",
              "  </tbody>\n",
              "</table>\n",
              "</div>\n",
              "      <button class=\"colab-df-convert\" onclick=\"convertToInteractive('df-4256ac64-c1fe-4ab5-9eb6-466cd984146f')\"\n",
              "              title=\"Convert this dataframe to an interactive table.\"\n",
              "              style=\"display:none;\">\n",
              "        \n",
              "  <svg xmlns=\"http://www.w3.org/2000/svg\" height=\"24px\"viewBox=\"0 0 24 24\"\n",
              "       width=\"24px\">\n",
              "    <path d=\"M0 0h24v24H0V0z\" fill=\"none\"/>\n",
              "    <path d=\"M18.56 5.44l.94 2.06.94-2.06 2.06-.94-2.06-.94-.94-2.06-.94 2.06-2.06.94zm-11 1L8.5 8.5l.94-2.06 2.06-.94-2.06-.94L8.5 2.5l-.94 2.06-2.06.94zm10 10l.94 2.06.94-2.06 2.06-.94-2.06-.94-.94-2.06-.94 2.06-2.06.94z\"/><path d=\"M17.41 7.96l-1.37-1.37c-.4-.4-.92-.59-1.43-.59-.52 0-1.04.2-1.43.59L10.3 9.45l-7.72 7.72c-.78.78-.78 2.05 0 2.83L4 21.41c.39.39.9.59 1.41.59.51 0 1.02-.2 1.41-.59l7.78-7.78 2.81-2.81c.8-.78.8-2.07 0-2.86zM5.41 20L4 18.59l7.72-7.72 1.47 1.35L5.41 20z\"/>\n",
              "  </svg>\n",
              "      </button>\n",
              "      \n",
              "  <style>\n",
              "    .colab-df-container {\n",
              "      display:flex;\n",
              "      flex-wrap:wrap;\n",
              "      gap: 12px;\n",
              "    }\n",
              "\n",
              "    .colab-df-convert {\n",
              "      background-color: #E8F0FE;\n",
              "      border: none;\n",
              "      border-radius: 50%;\n",
              "      cursor: pointer;\n",
              "      display: none;\n",
              "      fill: #1967D2;\n",
              "      height: 32px;\n",
              "      padding: 0 0 0 0;\n",
              "      width: 32px;\n",
              "    }\n",
              "\n",
              "    .colab-df-convert:hover {\n",
              "      background-color: #E2EBFA;\n",
              "      box-shadow: 0px 1px 2px rgba(60, 64, 67, 0.3), 0px 1px 3px 1px rgba(60, 64, 67, 0.15);\n",
              "      fill: #174EA6;\n",
              "    }\n",
              "\n",
              "    [theme=dark] .colab-df-convert {\n",
              "      background-color: #3B4455;\n",
              "      fill: #D2E3FC;\n",
              "    }\n",
              "\n",
              "    [theme=dark] .colab-df-convert:hover {\n",
              "      background-color: #434B5C;\n",
              "      box-shadow: 0px 1px 3px 1px rgba(0, 0, 0, 0.15);\n",
              "      filter: drop-shadow(0px 1px 2px rgba(0, 0, 0, 0.3));\n",
              "      fill: #FFFFFF;\n",
              "    }\n",
              "  </style>\n",
              "\n",
              "      <script>\n",
              "        const buttonEl =\n",
              "          document.querySelector('#df-4256ac64-c1fe-4ab5-9eb6-466cd984146f button.colab-df-convert');\n",
              "        buttonEl.style.display =\n",
              "          google.colab.kernel.accessAllowed ? 'block' : 'none';\n",
              "\n",
              "        async function convertToInteractive(key) {\n",
              "          const element = document.querySelector('#df-4256ac64-c1fe-4ab5-9eb6-466cd984146f');\n",
              "          const dataTable =\n",
              "            await google.colab.kernel.invokeFunction('convertToInteractive',\n",
              "                                                     [key], {});\n",
              "          if (!dataTable) return;\n",
              "\n",
              "          const docLinkHtml = 'Like what you see? Visit the ' +\n",
              "            '<a target=\"_blank\" href=https://colab.research.google.com/notebooks/data_table.ipynb>data table notebook</a>'\n",
              "            + ' to learn more about interactive tables.';\n",
              "          element.innerHTML = '';\n",
              "          dataTable['output_type'] = 'display_data';\n",
              "          await google.colab.output.renderOutput(dataTable, element);\n",
              "          const docLink = document.createElement('div');\n",
              "          docLink.innerHTML = docLinkHtml;\n",
              "          element.appendChild(docLink);\n",
              "        }\n",
              "      </script>\n",
              "    </div>\n",
              "  </div>\n",
              "  "
            ]
          },
          "metadata": {},
          "execution_count": 11
        }
      ],
      "source": [
        "# Brief calculations\n",
        "pubg.describe()"
      ]
    },
    {
      "cell_type": "code",
      "execution_count": null,
      "metadata": {
        "id": "38vUTT19tiZA"
      },
      "outputs": [],
      "source": [
        "# Drop missing value train, test\n",
        "pubg = pubg.dropna(axis=0, how='any')\n",
        "test = test.dropna(axis=0, how='any')"
      ]
    },
    {
      "cell_type": "code",
      "execution_count": null,
      "metadata": {
        "colab": {
          "base_uri": "https://localhost:8080/"
        },
        "id": "EzpQhWh6v0Fq",
        "outputId": "ae6a65dd-555a-4ae2-dbab-2a2c2a911066"
      },
      "outputs": [
        {
          "output_type": "execute_result",
          "data": {
            "text/plain": [
              "assists            0\n",
              "boosts             0\n",
              "damageDealt        0\n",
              "DBNOs              0\n",
              "headshotKills      0\n",
              "heals              0\n",
              "killPlace          0\n",
              "kills              0\n",
              "longestKill        0\n",
              "revives            0\n",
              "rideDistance       0\n",
              "swimDistance       0\n",
              "vehicleDestroys    0\n",
              "walkDistance       0\n",
              "weaponsAcquired    0\n",
              "winPlacePerc       0\n",
              "matchType2         0\n",
              "cat_numGroups      0\n",
              "dtype: int64"
            ]
          },
          "metadata": {},
          "execution_count": 13
        }
      ],
      "source": [
        "pubg.isna().sum() # 0 checked"
      ]
    },
    {
      "cell_type": "code",
      "execution_count": null,
      "metadata": {
        "colab": {
          "base_uri": "https://localhost:8080/"
        },
        "id": "AGRiXg9qt5SE",
        "outputId": "1a927a7c-2a96-453c-9e4c-102615256350"
      },
      "outputs": [
        {
          "output_type": "execute_result",
          "data": {
            "text/plain": [
              "Id                 0\n",
              "groupId            0\n",
              "matchId            0\n",
              "assists            0\n",
              "boosts             0\n",
              "damageDealt        0\n",
              "DBNOs              0\n",
              "headshotKills      0\n",
              "heals              0\n",
              "killPlace          0\n",
              "killPoints         0\n",
              "kills              0\n",
              "killStreaks        0\n",
              "longestKill        0\n",
              "matchDuration      0\n",
              "matchType          0\n",
              "maxPlace           0\n",
              "numGroups          0\n",
              "rankPoints         0\n",
              "revives            0\n",
              "rideDistance       0\n",
              "roadKills          0\n",
              "swimDistance       0\n",
              "teamKills          0\n",
              "vehicleDestroys    0\n",
              "walkDistance       0\n",
              "weaponsAcquired    0\n",
              "winPoints          0\n",
              "dtype: int64"
            ]
          },
          "metadata": {},
          "execution_count": 14
        }
      ],
      "source": [
        "test.isna().sum() # 0 checked => dimenstion size different\n",
        "# 'Id', 'groupId', 'matchId', 'killPoints', 'killStreaks', 'matchDuration', 'maxPlace', \n",
        "# 'matchType', 'numGroups', 'rankPoints', 'roadKills', 'teamKills' => needed to drop\n",
        "# 'winPlacePerc' -> target\n",
        "# matchType -> matchType2 needed\n",
        "# numGroups -> cat_numGroups needed"
      ]
    },
    {
      "cell_type": "code",
      "execution_count": null,
      "metadata": {
        "id": "GWKYVCbxv0Fq"
      },
      "outputs": [],
      "source": [
        "# Standardize the size of dimension.\n",
        "test = test.drop(columns=['Id', 'groupId', 'matchId', 'rankPoints', 'roadKills', 'matchDuration', \n",
        "'teamKills', 'killPoints', 'winPoints', 'maxPlace', 'killStreaks']) \n",
        "# killStreaks added together to drop columns"
      ]
    },
    {
      "cell_type": "code",
      "execution_count": null,
      "metadata": {
        "id": "Fw6B1aqmv0Fr"
      },
      "outputs": [],
      "source": [
        "## 윤상현\n",
        "# matchType2 - test\n",
        "test['matchType2'] = pd.NaT\n",
        "maplist = {\n",
        "    'squad' : 'squad',\n",
        "    'duo' : 'duo',\n",
        "    'solo' : 'solo',\n",
        "    'crash' : 'event',\n",
        "    'flare' : 'event'\n",
        "}\n",
        "\n",
        "for i in maplist:\n",
        "  test.matchType2[(test['matchType'].str.contains(i)==True)&(test['matchType2'].isnull())]=maplist.get(i)\n",
        "\n",
        "\n",
        "# solo ⮕ 1, duo ⮕ 2, squad ⮕ 4, falre & crash ⮕ 0 으로 전환\n",
        "def convert(x):\n",
        "    if x == \"squad\":\n",
        "        return 4\n",
        "    elif x == \"duo\":\n",
        "        return 2\n",
        "    elif x == \"solo\":\n",
        "        return 1\n",
        "    else : \n",
        "        return 0\n",
        "\n",
        "test['matchType2'] = test['matchType2'].map(convert)\n",
        "\n",
        "\n",
        "# test matchType drop\n",
        "test.drop(['matchType'], axis=1, inplace=True)"
      ]
    },
    {
      "cell_type": "code",
      "execution_count": null,
      "metadata": {
        "id": "32B2Gna5v0Fr"
      },
      "outputs": [],
      "source": [
        "## 문석민\n",
        "## numGroups column을 3구간으로 나눠서 categorical value로 표현.\n",
        "## < 40, 40 < 80, 80 <\n",
        "\n",
        "test['cat_numGroups'] = 0\n",
        "\n",
        "test.loc[test['numGroups'] < 40, 'cat_numGroups'] = 0\n",
        "test.loc[(test['numGroups'] > 40) & (test['numGroups'] < 80), 'cat_numGroups'] = 1\n",
        "test.loc[test['numGroups'] > 80, 'cat_numGroups'] = 2\n",
        "\n",
        "test = test.drop(columns='numGroups')"
      ]
    },
    {
      "cell_type": "code",
      "execution_count": null,
      "metadata": {
        "colab": {
          "base_uri": "https://localhost:8080/"
        },
        "id": "2cJnlzUIv0Fs",
        "outputId": "8d959529-e9b6-4d27-8d1a-75ae82ff5eb5"
      },
      "outputs": [
        {
          "output_type": "execute_result",
          "data": {
            "text/plain": [
              "Index(['assists', 'boosts', 'damageDealt', 'DBNOs', 'headshotKills', 'heals',\n",
              "       'killPlace', 'kills', 'longestKill', 'revives', 'rideDistance',\n",
              "       'swimDistance', 'vehicleDestroys', 'walkDistance', 'weaponsAcquired',\n",
              "       'matchType2', 'cat_numGroups'],\n",
              "      dtype='object')"
            ]
          },
          "metadata": {},
          "execution_count": 18
        }
      ],
      "source": [
        "test.columns"
      ]
    },
    {
      "cell_type": "code",
      "execution_count": null,
      "metadata": {
        "colab": {
          "base_uri": "https://localhost:8080/"
        },
        "id": "eSyMB-sgv0Fs",
        "outputId": "18209ee2-80bb-4681-e442-3f66eaa45720"
      },
      "outputs": [
        {
          "output_type": "execute_result",
          "data": {
            "text/plain": [
              "Index(['assists', 'boosts', 'damageDealt', 'DBNOs', 'headshotKills', 'heals',\n",
              "       'killPlace', 'kills', 'longestKill', 'revives', 'rideDistance',\n",
              "       'swimDistance', 'vehicleDestroys', 'walkDistance', 'weaponsAcquired',\n",
              "       'winPlacePerc', 'matchType2', 'cat_numGroups'],\n",
              "      dtype='object')"
            ]
          },
          "metadata": {},
          "execution_count": 19
        }
      ],
      "source": [
        "pubg.columns\n",
        "# 'winPlacePerc' -> target checked & same size of dimensions checked."
      ]
    },
    {
      "cell_type": "markdown",
      "metadata": {
        "id": "XjNvO8W5MmtF"
      },
      "source": [
        "## Modeling\n"
      ]
    },
    {
      "cell_type": "markdown",
      "metadata": {
        "id": "yX9ZmrZSMou6"
      },
      "source": [
        "### Training\n",
        "- train-test data split\n",
        "- model training"
      ]
    },
    {
      "cell_type": "markdown",
      "metadata": {
        "id": "8ESLJ-UpWiF8"
      },
      "source": [
        "#### Data Split"
      ]
    },
    {
      "cell_type": "code",
      "execution_count": null,
      "metadata": {
        "id": "5HU-mI3D86-m",
        "colab": {
          "base_uri": "https://localhost:8080/"
        },
        "outputId": "949045a9-d33e-42f9-b397-a6d405423605"
      },
      "outputs": [
        {
          "output_type": "execute_result",
          "data": {
            "text/plain": [
              "((3557572, 17), (889393, 17), (3557572,), (889393,))"
            ]
          },
          "metadata": {},
          "execution_count": 20
        }
      ],
      "source": [
        "# 학습을 위한 training / test dataset 나누기\n",
        "from sklearn.model_selection import train_test_split\n",
        "\n",
        "x = pubg.drop(columns='winPlacePerc')\n",
        "y = pubg['winPlacePerc']\n",
        "\n",
        "# 6 : 2 : 2 = train : validation : test\n",
        "x_train, x_test, y_train, y_test = \\\n",
        "train_test_split(x, y, test_size=0.2, random_state=100)\n",
        "\n",
        "x_train.shape, x_test.shape, y_train.shape, y_test.shape"
      ]
    },
    {
      "cell_type": "code",
      "execution_count": null,
      "metadata": {
        "id": "zLDb3VULuxcu"
      },
      "outputs": [],
      "source": [
        "# Feature Engineering\n",
        "# fix : ValueError: Unknown label type: 'continuous' -> LogisticRegression\n",
        "# LogisticRegression Recall that a logistic regression model requires \n",
        "# the values of the response variable to be categorical such as:\n",
        "# 0 or 1 / “Yes” or “No” / “Pass” or “Fail”\n",
        "#from sklearn import preprocessing\n",
        "#from sklearn import utils\n",
        "\n",
        "#convert y values to categorical values\n",
        "#lab = preprocessing.LabelEncoder()\n",
        "#y_transformed = lab.fit_transform(y_train)\n",
        "\n",
        "#view transformed values\n",
        "#print(y_transformed)\n",
        "# ref : https://www.statology.org/valueerror-unknown-label-type-continuous/"
      ]
    },
    {
      "cell_type": "markdown",
      "metadata": {
        "id": "iYKolA4Nv0Fu"
      },
      "source": [
        "##### Modeling 1st count"
      ]
    },
    {
      "cell_type": "markdown",
      "metadata": {
        "id": "sTf2nuqNv0Fu"
      },
      "source": [
        "Regression Model list\n",
        "- LinearRegression\n",
        "- Lasso\n",
        "- Ridge\n",
        "- SVR\n",
        "- KNeighborsRegressor\n",
        "- DecisionTreeRegressor\n",
        "- LGBMRegressor\n",
        "- RandomForestRegressor\n",
        "- XGBRegressor\n",
        "- CatBoostRegressor"
      ]
    },
    {
      "cell_type": "code",
      "execution_count": null,
      "metadata": {
        "colab": {
          "base_uri": "https://localhost:8080/"
        },
        "id": "9E7nBgQEv0Fu",
        "outputId": "4ab26939-d611-485e-8418-9760d8bc742b"
      },
      "outputs": [
        {
          "output_type": "stream",
          "name": "stdout",
          "text": [
            "Looking in indexes: https://pypi.org/simple, https://us-python.pkg.dev/colab-wheels/public/simple/\n",
            "Collecting catboost\n",
            "  Downloading catboost-1.0.6-cp37-none-manylinux1_x86_64.whl (76.6 MB)\n",
            "\u001b[K     |████████████████████████████████| 76.6 MB 1.2 MB/s \n",
            "\u001b[?25hRequirement already satisfied: matplotlib in /usr/local/lib/python3.7/dist-packages (from catboost) (3.2.2)\n",
            "Requirement already satisfied: plotly in /usr/local/lib/python3.7/dist-packages (from catboost) (5.5.0)\n",
            "Requirement already satisfied: scipy in /usr/local/lib/python3.7/dist-packages (from catboost) (1.4.1)\n",
            "Requirement already satisfied: pandas>=0.24.0 in /usr/local/lib/python3.7/dist-packages (from catboost) (1.3.5)\n",
            "Requirement already satisfied: graphviz in /usr/local/lib/python3.7/dist-packages (from catboost) (0.10.1)\n",
            "Requirement already satisfied: six in /usr/local/lib/python3.7/dist-packages (from catboost) (1.15.0)\n",
            "Requirement already satisfied: numpy>=1.16.0 in /usr/local/lib/python3.7/dist-packages (from catboost) (1.21.6)\n",
            "Requirement already satisfied: python-dateutil>=2.7.3 in /usr/local/lib/python3.7/dist-packages (from pandas>=0.24.0->catboost) (2.8.2)\n",
            "Requirement already satisfied: pytz>=2017.3 in /usr/local/lib/python3.7/dist-packages (from pandas>=0.24.0->catboost) (2022.1)\n",
            "Requirement already satisfied: pyparsing!=2.0.4,!=2.1.2,!=2.1.6,>=2.0.1 in /usr/local/lib/python3.7/dist-packages (from matplotlib->catboost) (3.0.9)\n",
            "Requirement already satisfied: kiwisolver>=1.0.1 in /usr/local/lib/python3.7/dist-packages (from matplotlib->catboost) (1.4.2)\n",
            "Requirement already satisfied: cycler>=0.10 in /usr/local/lib/python3.7/dist-packages (from matplotlib->catboost) (0.11.0)\n",
            "Requirement already satisfied: typing-extensions in /usr/local/lib/python3.7/dist-packages (from kiwisolver>=1.0.1->matplotlib->catboost) (4.2.0)\n",
            "Requirement already satisfied: tenacity>=6.2.0 in /usr/local/lib/python3.7/dist-packages (from plotly->catboost) (8.0.1)\n",
            "Installing collected packages: catboost\n",
            "Successfully installed catboost-1.0.6\n"
          ]
        }
      ],
      "source": [
        "!pip install catboost"
      ]
    },
    {
      "cell_type": "code",
      "execution_count": null,
      "metadata": {
        "id": "GDkmnd8G-KWw"
      },
      "outputs": [],
      "source": [
        "# Modeling test - > Trying same as before\n",
        "from sklearn.linear_model import LinearRegression   # 1. Linear Regression\n",
        "from sklearn.linear_model import Lasso              # 2. Lasso\n",
        "from sklearn.linear_model import Ridge              # 3. Ridge\n",
        "from xgboost.sklearn import XGBRegressor            # 4. XGBoost\n",
        "from lightgbm.sklearn import LGBMRegressor          # 5. LightGBM\n",
        "\n",
        "# S: SVR Package\n",
        "from sklearn.svm import SVR\n",
        "from sklearn.pipeline import make_pipeline\n",
        "from sklearn.preprocessing import StandardScaler\n",
        "# E: SVR Package\n",
        "\n",
        "# added\n",
        "# from sklearn.neighbors import KNeighborsRegressor\n",
        "# from sklearn.tree import DecisionTreeRegressor\n",
        "# from sklearn.ensemble import RandomForestRegressor\n",
        "# from catboost import CatBoostRegressor # need to install in conda : conda install catboost\n",
        "\n",
        "\n",
        "from sklearn.metrics import mean_absolute_error # mean_absolute_error -> mae\n"
      ]
    },
    {
      "cell_type": "code",
      "execution_count": null,
      "metadata": {
        "colab": {
          "base_uri": "https://localhost:8080/"
        },
        "id": "-32YbW-mYGBw",
        "outputId": "c306bd01-07da-48ce-f77b-7519e4543044"
      },
      "outputs": [
        {
          "output_type": "stream",
          "name": "stderr",
          "text": [
            "/usr/local/lib/python3.7/dist-packages/sklearn/linear_model/_ridge.py:157: LinAlgWarning: Ill-conditioned matrix (rcond=2.87965e-09): result may not be accurate.\n",
            "  return linalg.solve(A, Xy, sym_pos=True, overwrite_a=True).T\n"
          ]
        },
        {
          "output_type": "stream",
          "name": "stdout",
          "text": [
            "[00:00:47] WARNING: /workspace/src/objective/regression_obj.cu:152: reg:linear is now deprecated in favor of reg:squarederror.\n",
            "1. Linear Regression\t, train=0.1050, val=0.1049\n",
            "2. Lasso\t\t, train=0.1264, val=0.1261\n",
            "3. Ridge\t\t, train=0.1050, val=0.1049\n",
            "4. XGBoost\t\t, train=0.0740, val=0.0741\n",
            "5. LightGBM\t\t, train=0.0681, val=0.0681\n"
          ]
        }
      ],
      "source": [
        "## training\n",
        "reg = LinearRegression()\n",
        "reg2 = Lasso()\n",
        "reg3 = Ridge()\n",
        "reg4 = XGBRegressor()\n",
        "reg5 = LGBMRegressor()\n",
        "\n",
        "reg.fit(x_train, y_train)\n",
        "reg2.fit(x_train, y_train)\n",
        "reg3.fit(x_train, y_train)\n",
        "reg4.fit(x_train, y_train)\n",
        "reg5.fit(x_train, y_train)\n",
        "\n",
        "pred_train = reg.predict(x_train)\n",
        "pred_train2 = reg2.predict(x_train)\n",
        "pred_train3 = reg3.predict(x_train)\n",
        "pred_train4 = reg4.predict(x_train)\n",
        "pred_train5 = reg5.predict(x_train)\n",
        "\n",
        "pred_val = reg.predict(x_test)\n",
        "pred_val2 = reg2.predict(x_test)\n",
        "pred_val3 = reg3.predict(x_test)\n",
        "pred_val4 = reg4.predict(x_test)\n",
        "pred_val5 = reg5.predict(x_test)\n",
        "\n",
        "mae_train = mean_absolute_error(y_train, pred_train)\n",
        "mae_val = mean_absolute_error(y_test, pred_val)\n",
        "mae_train2 = mean_absolute_error(y_train, pred_train2)\n",
        "mae_val2 = mean_absolute_error(y_test, pred_val2)\n",
        "mae_train3 = mean_absolute_error(y_train, pred_train3)\n",
        "mae_val3 = mean_absolute_error(y_test, pred_val3)\n",
        "mae_train4 = mean_absolute_error(y_train, pred_train4)\n",
        "mae_val4 = mean_absolute_error(y_test, pred_val4)\n",
        "mae_train5 = mean_absolute_error(y_train, pred_train5)\n",
        "mae_val5 = mean_absolute_error(y_test, pred_val5)\n",
        "\n",
        "\n",
        "print(\"1. Linear Regression\\t, train=%.4f, val=%.4f\" % (mae_train, mae_val))\n",
        "print(\"2. Lasso\\t\\t, train=%.4f, val=%.4f\" % (mae_train2, mae_val2))\n",
        "print(\"3. Ridge\\t\\t, train=%.4f, val=%.4f\" % (mae_train3, mae_val3))\n",
        "print(\"4. XGBoost\\t\\t, train=%.4f, val=%.4f\" % (mae_train4, mae_val4))\n",
        "print(\"5. LightGBM\\t\\t, train=%.4f, val=%.4f\" % (mae_train5, mae_val5))"
      ]
    },
    {
      "cell_type": "code",
      "execution_count": null,
      "metadata": {
        "id": "S7rPC_x5v0Fv"
      },
      "outputs": [],
      "source": [
        "# prediction!\n",
        "result = reg.predict(x_test)\n",
        "result2 = reg2.predict(x_test)\n",
        "result3 = reg3.predict(x_test)\n",
        "result4 = reg4.predict(x_test)\n",
        "result5 = reg5.predict(x_test)"
      ]
    },
    {
      "cell_type": "code",
      "execution_count": null,
      "metadata": {
        "colab": {
          "base_uri": "https://localhost:8080/"
        },
        "id": "dO3lioUqv0Fw",
        "outputId": "96c7bac6-6f7e-4ebd-fb60-dbdb414a1738"
      },
      "outputs": [
        {
          "output_type": "stream",
          "name": "stdout",
          "text": [
            "---------- Linear Regression ---------\n",
            "MAE in training: 0.1049\n",
            "---------- Lasso ---------\n",
            "MAE in training: 0.1261\n",
            "---------- Ridge ---------\n",
            "MAE in training: 0.1049\n",
            "---------- XGBoost ---------\n",
            "MAE in training: 0.0741\n",
            "---------- LightGBM ---------\n",
            "MAE in training: 0.0681\n"
          ]
        }
      ],
      "source": [
        "# Summary!\n",
        "print(\"---------- Linear Regression ---------\")\n",
        "print('MAE in training: %.4f' % mean_absolute_error(y_test, result))\n",
        "\n",
        "print(\"---------- Lasso ---------\")\n",
        "print('MAE in training: %.4f' % mean_absolute_error(y_test, result2))\n",
        "\n",
        "print(\"---------- Ridge ---------\")\n",
        "print('MAE in training: %.4f' % mean_absolute_error(y_test, result3))\n",
        "\n",
        "print(\"---------- XGBoost ---------\")\n",
        "print('MAE in training: %.4f' % mean_absolute_error(y_test, result4))\n",
        "\n",
        "print(\"---------- LightGBM ---------\")\n",
        "print('MAE in training: %.4f' % mean_absolute_error(y_test, result5))"
      ]
    },
    {
      "cell_type": "markdown",
      "source": [
        "**Score from before data preprocessing 1st**\n",
        "\n",
        "\n",
        "---------- Linear Regression ---------\n",
        "\n",
        "MSE in training: 0.0926\n",
        "\n",
        "---------- Lasso ---------\n",
        "\n",
        "MSE in training: 0.1209\n",
        "\n",
        "---------- Ridge ---------\n",
        "\n",
        "MSE in training: 0.0926\n",
        "\n",
        "---------- XGBoost ---------\n",
        "\n",
        "MSE in training: 0.0694\n",
        "\n",
        "---------- LightGBM ---------\n",
        "\n",
        "MSE in training: 0.0603\n"
      ],
      "metadata": {
        "id": "ZDpO0eCC6uyj"
      }
    },
    {
      "cell_type": "markdown",
      "source": [
        "#### Preprocessing data Again!\n",
        "- killPlace 삭제 후 진행 -> 위의 이전 모델과 동일하게 돌렸을 때 오히려 성능 저하 확인 / 해당의 columns 역시 정답지나 마찬가지로서 적용되므로"
      ],
      "metadata": {
        "id": "9xxjyRPa2Gd5"
      }
    },
    {
      "cell_type": "code",
      "source": [
        "pubg.drop('killPlace', axis=1, inplace=True)\n",
        "test.drop('killPlace', axis=1, inplace=True)"
      ],
      "metadata": {
        "id": "nQgjYhe04jQA"
      },
      "execution_count": null,
      "outputs": []
    },
    {
      "cell_type": "code",
      "source": [
        "# preprocessing data - check again\n",
        "pubg.info() # 4446965 rows × 17 columns"
      ],
      "metadata": {
        "colab": {
          "base_uri": "https://localhost:8080/"
        },
        "id": "auLIDAbH2Ddr",
        "outputId": "a96bcef8-f9e1-4856-ee93-26c5ff49d42e"
      },
      "execution_count": null,
      "outputs": [
        {
          "output_type": "stream",
          "name": "stdout",
          "text": [
            "<class 'pandas.core.frame.DataFrame'>\n",
            "Int64Index: 4446965 entries, 0 to 4446964\n",
            "Data columns (total 17 columns):\n",
            " #   Column           Dtype  \n",
            "---  ------           -----  \n",
            " 0   assists          int8   \n",
            " 1   boosts           int8   \n",
            " 2   damageDealt      float16\n",
            " 3   DBNOs            int8   \n",
            " 4   headshotKills    int8   \n",
            " 5   heals            int8   \n",
            " 6   kills            int8   \n",
            " 7   longestKill      float16\n",
            " 8   revives          int8   \n",
            " 9   rideDistance     float16\n",
            " 10  swimDistance     float16\n",
            " 11  vehicleDestroys  int8   \n",
            " 12  walkDistance     float16\n",
            " 13  weaponsAcquired  int16  \n",
            " 14  winPlacePerc     float16\n",
            " 15  matchType2       int8   \n",
            " 16  cat_numGroups    int8   \n",
            "dtypes: float16(6), int16(1), int8(10)\n",
            "memory usage: 135.7 MB\n"
          ]
        }
      ]
    },
    {
      "cell_type": "code",
      "source": [
        "test.info() # 1934174 rows × 16 columns"
      ],
      "metadata": {
        "colab": {
          "base_uri": "https://localhost:8080/"
        },
        "id": "mHM7Tvtu2Ppy",
        "outputId": "0f6ac435-84a8-40fd-990b-3c746610f2b1"
      },
      "execution_count": null,
      "outputs": [
        {
          "output_type": "stream",
          "name": "stdout",
          "text": [
            "<class 'pandas.core.frame.DataFrame'>\n",
            "Int64Index: 1934174 entries, 0 to 1934173\n",
            "Data columns (total 16 columns):\n",
            " #   Column           Dtype  \n",
            "---  ------           -----  \n",
            " 0   assists          int8   \n",
            " 1   boosts           int8   \n",
            " 2   damageDealt      float16\n",
            " 3   DBNOs            int8   \n",
            " 4   headshotKills    int8   \n",
            " 5   heals            int8   \n",
            " 6   kills            int8   \n",
            " 7   longestKill      float16\n",
            " 8   revives          int8   \n",
            " 9   rideDistance     float16\n",
            " 10  swimDistance     float16\n",
            " 11  vehicleDestroys  int8   \n",
            " 12  walkDistance     float16\n",
            " 13  weaponsAcquired  int16  \n",
            " 14  matchType2       int64  \n",
            " 15  cat_numGroups    int64  \n",
            "dtypes: float16(5), int16(1), int64(2), int8(8)\n",
            "memory usage: 81.2 MB\n"
          ]
        }
      ]
    },
    {
      "cell_type": "code",
      "source": [
        "# 학습을 위한 training / test dataset 나누기\n",
        "from sklearn.model_selection import train_test_split\n",
        "\n",
        "x = pubg.drop(columns='winPlacePerc')\n",
        "y = pubg['winPlacePerc']\n",
        "\n",
        "# 6 : 2 : 2 = train : validation : test\n",
        "# x_train, x_test, y_train, y_test = \\\n",
        "# train_test_split(x, y, test_size=0.2, random_state=100)\n",
        "x_train, x_test, y_train, y_test = \\\n",
        "x_train, x_val, y_train, y_val = train_test_split(x_train, y_train, test_size=0.25, random_state=100)\n",
        "\n",
        "x_train.shape, x_test.shape, y_train.shape, y_test.shape"
      ],
      "metadata": {
        "colab": {
          "base_uri": "https://localhost:8080/"
        },
        "id": "G_PqQVzv20Sg",
        "outputId": "3b696bc2-5fce-4a1e-900a-d46224bd9398"
      },
      "execution_count": null,
      "outputs": [
        {
          "output_type": "execute_result",
          "data": {
            "text/plain": [
              "((2668179, 17), (889393, 17), (2668179,), (889393,))"
            ]
          },
          "metadata": {},
          "execution_count": 30
        }
      ]
    },
    {
      "cell_type": "code",
      "source": [
        "# killPlcae 삭제 후 체크\n",
        "# LinearRegression\n",
        "from sklearn.linear_model import LinearRegression   # 1. Linear Regression\n",
        "linReg = LinearRegression()\n",
        "linReg.fit(x_train, y_train)\n",
        "pred_train1 = linReg.predict(x_train)\n",
        "pred_val1 = linReg.predict(x_test)\n",
        "mae_train1 = mean_absolute_error(y_train, pred_train1)\n",
        "mae_val1 = mean_absolute_error(y_test, pred_val1)\n",
        "print('1. Linear Regression\\t, train=%.4f, val=%.4f' % (mae_train1, mae_val1))\n",
        "result1 = linReg.predict(x_test)\n",
        "print('---------- Linear Regression ---------')\n",
        "print('MAE in training: %.4f' % mean_absolute_error(y_test, result1))"
      ],
      "metadata": {
        "colab": {
          "base_uri": "https://localhost:8080/"
        },
        "id": "dsX6fQqV2hWo",
        "outputId": "169cfaea-3250-47b4-f4b1-9d448ef2f47b"
      },
      "execution_count": null,
      "outputs": [
        {
          "output_type": "stream",
          "name": "stdout",
          "text": [
            "1. Linear Regression\t, train=0.1050, val=0.1051\n",
            "---------- Linear Regression ---------\n",
            "MAE in training: 0.1051\n"
          ]
        }
      ]
    },
    {
      "cell_type": "code",
      "source": [
        "# Lasso\n",
        "from sklearn.linear_model import Lasso              # 2. Lasso\n",
        "\n",
        "las = Lasso()\n",
        "las.fit(x_train, y_train)\n",
        "pred_train2 = las.predict(x_train)\n",
        "pred_val2 = las.predict(x_test)\n",
        "mae_train2 = mean_absolute_error(y_train, pred_train2)\n",
        "mae_val2 = mean_absolute_error(y_test, pred_val2)\n",
        "print('2. Lasso\\t, train=%.4f, val=%.4f' % (mae_train2, mae_val2))\n",
        "result2 = las.predict(x_test)\n",
        "print('---------- Lasso ---------')\n",
        "print('MAE in training: %.4f' % mean_absolute_error(y_test, result2))"
      ],
      "metadata": {
        "colab": {
          "base_uri": "https://localhost:8080/"
        },
        "id": "yFKPwlmsRG66",
        "outputId": "92700a88-de32-49b5-ebdb-db1278ce9c3d"
      },
      "execution_count": null,
      "outputs": [
        {
          "output_type": "stream",
          "name": "stdout",
          "text": [
            "2. Lasso\t, train=0.1263, val=0.1265\n",
            "---------- Lasso ---------\n",
            "MAE in training: 0.1265\n"
          ]
        }
      ]
    },
    {
      "cell_type": "code",
      "source": [
        "from sklearn.linear_model import Ridge              # 3. Ridge\n",
        "\n",
        "rid = Ridge()\n",
        "rid.fit(x_train, y_train)\n",
        "pred_train3 = rid.predict(x_train)\n",
        "pred_val3 = rid.predict(x_test)\n",
        "mae_train3 = mean_absolute_error(y_train, pred_train3)\n",
        "mae_val3 = mean_absolute_error(y_test, pred_val3)\n",
        "print('3. Ridge\\t, train=%.4f, val=%.4f' % (mae_train3, mae_val3))\n",
        "result3 = rid.predict(x_test)\n",
        "print('---------- Ridge ---------')\n",
        "print('MAE in training: %.4f' % mean_absolute_error(y_test, result3))"
      ],
      "metadata": {
        "colab": {
          "base_uri": "https://localhost:8080/"
        },
        "id": "g-NErJh5RK5Z",
        "outputId": "f846f8f5-5c36-4451-af69-fbec6abfc6b6"
      },
      "execution_count": null,
      "outputs": [
        {
          "output_type": "stream",
          "name": "stderr",
          "text": [
            "/usr/local/lib/python3.7/dist-packages/sklearn/linear_model/_ridge.py:157: LinAlgWarning: Ill-conditioned matrix (rcond=2.89853e-09): result may not be accurate.\n",
            "  return linalg.solve(A, Xy, sym_pos=True, overwrite_a=True).T\n"
          ]
        },
        {
          "output_type": "stream",
          "name": "stdout",
          "text": [
            "3. Ridge\t, train=0.1050, val=0.1051\n",
            "---------- Ridge ---------\n",
            "MAE in training: 0.1051\n"
          ]
        }
      ]
    },
    {
      "cell_type": "code",
      "source": [
        "from xgboost.sklearn import XGBRegressor            # 4. XGBoost\n",
        "\n",
        "xgb = XGBRegressor()\n",
        "xgb.fit(x_train, y_train)\n",
        "pred_train4 = xgb.predict(x_train)\n",
        "pred_val4 = xgb.predict(x_test)\n",
        "mae_train4 = mean_absolute_error(y_train, pred_train4)\n",
        "mae_val4 = mean_absolute_error(y_test, pred_val4)\n",
        "print('4. XGBoost\\t, train=%.4f, val=%.4f' % (mae_train4, mae_val4))\n",
        "result4 = xgb.predict(x_test)\n",
        "print('---------- XGBoost ---------')\n",
        "print('MAE in training: %.4f' % mean_absolute_error(y_test, result4))"
      ],
      "metadata": {
        "colab": {
          "base_uri": "https://localhost:8080/"
        },
        "id": "6JQy3qSTRLw_",
        "outputId": "d6688911-d5f2-4c38-9b81-f9fa5702d053"
      },
      "execution_count": null,
      "outputs": [
        {
          "output_type": "stream",
          "name": "stdout",
          "text": [
            "[00:08:37] WARNING: /workspace/src/objective/regression_obj.cu:152: reg:linear is now deprecated in favor of reg:squarederror.\n",
            "4. XGBoost\t, train=0.0742, val=0.0743\n",
            "---------- XGBoost ---------\n",
            "MAE in training: 0.0743\n"
          ]
        }
      ]
    },
    {
      "cell_type": "code",
      "source": [
        "from lightgbm.sklearn import LGBMRegressor          # 5. LightGBM\n",
        "\n",
        "lgb = LGBMRegressor()\n",
        "lgb.fit(x_train, y_train)\n",
        "pred_train5 = lgb.predict(x_train)\n",
        "pred_val5 = lgb.predict(x_test)\n",
        "mae_train5 = mean_absolute_error(y_train, pred_train5)\n",
        "mae_val5 = mean_absolute_error(y_test, pred_val5)\n",
        "print('5. LightGBM\\t, train=%.4f, val=%.4f' % (mae_train5, mae_val5))\n",
        "result5 = lgb.predict(x_test)\n",
        "print('---------- LightGBM ---------')\n",
        "print('MAE in training: %.4f' % mean_absolute_error(y_test, result5))"
      ],
      "metadata": {
        "colab": {
          "base_uri": "https://localhost:8080/"
        },
        "id": "YongWcbqRMrN",
        "outputId": "4a8e3b83-3d5b-48fc-b6b9-66b11bd2cfe5"
      },
      "execution_count": null,
      "outputs": [
        {
          "output_type": "stream",
          "name": "stdout",
          "text": [
            "5. LightGBM\t, train=0.0681, val=0.0682\n",
            "---------- LightGBM ---------\n",
            "MAE in training: 0.0682\n"
          ]
        }
      ]
    },
    {
      "cell_type": "code",
      "source": [
        "# S: SVR Package \n",
        "from sklearn.svm import SVR          # 6. SVR Package\n",
        "# from sklearn.pipeline import make_pipeline #regression\n",
        "from sklearn.pipeline import Pipeline\n",
        "from sklearn.preprocessing import StandardScaler\n",
        "from sklearn.model_selection import cross_val_score\n",
        "# from sklearn.model_selection import GridSearchCV\n",
        "# from sklearn.decomposition import PCA\n",
        "# E: SVR Package\n",
        "\n",
        "# svr_rbf = SVR(kernel='rbf', C=100, gamma=0.1, epsilon=0.1)\n",
        "# svr_lin = SVR(kernel='linear', C=100, gamma='auto')\n",
        "# svr_poly = SVR(kernel='poly', C=100, gamma='auto', degree=3, epsilon=0.1, coef0=1)\n",
        "\n",
        "# svrs = [svr_rbf, svr_lin, svr_poly]\n",
        "# kernel_label = ['RBF', 'Linear', 'Polynomial']\n",
        "# model_color = ['m', 'c', 'g']\n",
        "\n",
        "scaler = StandardScaler()\n",
        "x_train = scaler.fit_transform(x_train)\n",
        "x_test = scaler.transform(x_test)\n",
        "x_val = scaler.transform(x_val)\n",
        "svr = make_pipeline(StandardScaler(), SVR(kernel='linear', C=1.0, epsilon=0.2))\n",
        "svr.fit(x_train, y_train)\n",
        "pipe = Pipeline(steps=[('standardscaler', StandardScaler()),\n",
        "                ('svr', SVR(epsilon=0.2))])\n",
        "\n",
        "pipe.score(x_test, y_test)\n",
        "\n",
        "# find the optimal values of C and gamma \n",
        "# svr = SVR()\n",
        "# svr.fit(x_train, y_train)\n",
        "# pred_train6 = svr.predict(x_train)\n",
        "# pred_val6 = svr.predict(x_test)\n",
        "# mae_train6 = mean_absolute_error(y_train, pred_train6)\n",
        "# mae_val6 = mean_absolute_error(y_test, pred_val6)\n",
        "# print('6. SVR Package\\t, train=%.4f, val=%.4f' % (mae_train6, mae_val6))\n",
        "# result6 = svr.predict(x_test)\n",
        "# print('---------- SVR Package ---------')\n",
        "# print('MAE in training: %.4f' % mean_absolute_error(y_test, result6))"
      ],
      "metadata": {
        "id": "CGSmzHjDTO0m"
      },
      "execution_count": null,
      "outputs": []
    },
    {
      "cell_type": "code",
      "source": [
        "# SVR == Epsilon-Support Vector Regression.\n",
        "from sklearn.decomposition import PCA\n",
        "\n",
        " svrmodel = make_pipeline(StandardScaler(), SVR(C=1.0, epsilon=0.2))\n",
        " svrmodel = SVR(C=1.0, cache_size=200, coef0=0.0, degree=3, epsilon=0.2, gamma='scale', \n",
        " kernel='rbf', max_iter=-1, shrinking=True, tol=0.001, verbose=False)\n",
        " svrmodel.fit(x_train, y_train)\n",
        " Pipeline(steps=[('standardscaler', StandardScaler()), ('svr', SVR(epsilon=0.2))])\n",
        " x_train.shape, y_train.shape, x_test.shape\n",
        "\n",
        "pcr = make_pipeline(StandardScaler(), PCA(n_components=1), LinearRegression())\n",
        "pcr.fit(x_train, y_train)\n",
        "pca = pcr.named_steps['pca']  # retrieve the PCA step of the pipeline\n",
        "\n",
        "fig, axes = plt.subplots(1, 2, figsize=(10, 3))\n",
        "axes[0].scatter(pca.transform(x_test), y_test, alpha=0.3, label='ground truth')\n",
        "axes[0].scatter(\n",
        "    pca.transform(x_test), pcr.predict(x_test), alpha=0.3, label='predictions'\n",
        ")\n",
        "axes[0].set(\n",
        "    xlabel='Projected data onto first PCA component', ylabel='y', title='PCR / svrmodel'\n",
        ")\n",
        "axes[0].legend()\n",
        "axes[1].scatter(svrmodel.transform(x_test), y_test, alpha=0.3, label='ground truth')\n",
        "axes[1].scatter(\n",
        "    svrmodel.transform(x_test), svrmodel.predict(x_test), alpha=0.3, label='predictions'\n",
        ")\n",
        "axes[1].set(xlabel='Projected data onto first svrmodel component', ylabel='y', title='svrmodel')\n",
        "axes[1].legend()\n",
        "plt.tight_layout()\n",
        "plt.show()"
      ],
      "metadata": {
        "id": "zhZriOj_ohPM"
      },
      "execution_count": null,
      "outputs": []
    },
    {
      "cell_type": "markdown",
      "source": [
        "- SVR 하지 않은 이유 -> 너무 오래 걸림. "
      ],
      "metadata": {
        "id": "zqmFLPhMULiv"
      }
    },
    {
      "cell_type": "code",
      "execution_count": null,
      "metadata": {
        "id": "1XqFBVJuz_Vm"
      },
      "outputs": [],
      "source": [
        "# Hyper-parameter tuning\n",
        "# 1. Human Search\n",
        "# 2. Grid Search(GridSearchCV) : 주어진 hp의 조합을 모두 돌려보는 방식.\n",
        "# 3. Bayesian Optimization(hyperopt, optuna, ...) : hyper-parameter를 최적화하는 베이지안 방식을 사용.\n",
        "\n",
        "# GridSearchCV\n",
        "# from sklearn.model_selection import GridSearchCV\n",
        "\n",
        "# param_grid = {\n",
        "#    \"max_depth\" : [3, 4, 5, 6, 7, -1], # 6\n",
        "#    \"learning_rate\" : [0.1, 0.01, 0.05], # 3\n",
        "#    \"n_estimators\" : [50, 100, 200] # 3\n",
        "# } # 6x3x3 = 54\n",
        "\n",
        "# gcv = GridSearchCV(reg5, param_grid, scoring='neg_mean_squared_error', verbose=1)\n",
        "# gcv.fit(x_train, y_train)\n",
        "#print(gcv.cv_results_)\n",
        "# print(gcv.best_estimator_)\n",
        "# print(gcv.best_params_)"
      ]
    },
    {
      "cell_type": "code",
      "source": [
        "# 데이터에 대한 관점을 먼저 고민해보자.\n",
        "# 나오는 데이터 대다수가 int, float로서 숫자인 타입들. => 양적자료&이산형 위주.\n",
        "# 그 중에서 내 담당 \n",
        "features = ['simpleMatchNum', 'damageDealt', 'boosts', 'heals', 'assists', 'revives', 'DBNOs']\n",
        "# 해당의 features 을 조정할 방법 찾아보기.\n"
      ],
      "metadata": {
        "id": "cvvVhdBC7bFM"
      },
      "execution_count": null,
      "outputs": []
    },
    {
      "cell_type": "code",
      "execution_count": null,
      "metadata": {
        "id": "KBI2K-p-0BEJ"
      },
      "outputs": [],
      "source": [
        "# test(Prediction)\n",
        "# training set과 같은 전처리! V\n",
        "# final_model = gcv.best_estimator_"
      ]
    },
    {
      "cell_type": "code",
      "execution_count": null,
      "metadata": {
        "id": "jqT3JMG80FoE"
      },
      "outputs": [],
      "source": [
        "# # prediction!\n",
        "# result = reg.predict(x_test)\n",
        "# result2 = reg2.predict(x_test)\n",
        "# result3 = reg3.predict(x_test)\n",
        "# result4 = reg4.predict(x_test)\n",
        "# result5 = reg5.predict(x_test)"
      ]
    },
    {
      "cell_type": "code",
      "execution_count": null,
      "metadata": {
        "id": "ST9c3uBd0G95"
      },
      "outputs": [],
      "source": [
        "# # Summary!\n",
        "# print(\"---------- Linear Regression ---------\")\n",
        "# print('MSE in training: %.4f' % mean_absolute_error(y_test, result))\n",
        "\n",
        "# print(\"---------- Lasso ---------\")\n",
        "# print('MSE in training: %.4f' % mean_absolute_error(y_test, result2))\n",
        "\n",
        "# print(\"---------- Ridge ---------\")\n",
        "# print('MSE in training: %.4f' % mean_absolute_error(y_test, result3))\n",
        "\n",
        "# print(\"---------- XGBoost ---------\")\n",
        "# print('MSE in training: %.4f' % mean_absolute_error(y_test, result4))\n",
        "\n",
        "# print(\"---------- LightGBM ---------\")\n",
        "# print('MSE in training: %.4f' % mean_absolute_error(y_test, result5))"
      ]
    },
    {
      "cell_type": "code",
      "execution_count": null,
      "metadata": {
        "id": "fauM_3ZeqPRh"
      },
      "outputs": [],
      "source": [
        "# SVR == Epsilon-Support Vector Regression.\n",
        "#svrmodel = make_pipeline(StandardScaler(), SVR(C=1.0, epsilon=0.2))\n",
        "#svrmodel = SVR(C=1.0, cache_size=200, coef0=0.0, degree=3, epsilon=0.2, gamma='scale', \n",
        "#kernel='rbf', max_iter=-1, shrinking=True, tol=0.001, verbose=False)\n",
        "#svrmodel.fit(x_train, y_train)\n",
        "# Pipeline(steps=[('standardscaler', StandardScaler()), ('svr', SVR(epsilon=0.2))])\n",
        "# x_train.shape, y_train.shape, x_test.shape\n",
        "# code ref : https://python.hotexamples.com/examples/sklearn.svm/SVR/score/python-svr-score-method-examples.html"
      ]
    },
    {
      "cell_type": "code",
      "execution_count": null,
      "metadata": {
        "id": "tmZG0tDNqPPE"
      },
      "outputs": [],
      "source": [
        "# get_params(deep=True)\n",
        "#y_pred_svr = svrmodel.predict(x_test)\n",
        "#mean_absolute_error(y_test, y_pred_svr)\n",
        "#svr_score = svrmodel.score(x_test, y_test)"
      ]
    },
    {
      "cell_type": "markdown",
      "metadata": {
        "id": "9zzZCwVSNLMx"
      },
      "source": [
        "#### Drop some columns and train again\n"
      ]
    },
    {
      "cell_type": "code",
      "execution_count": null,
      "metadata": {
        "id": "yiV91m7VQJr8"
      },
      "outputs": [],
      "source": [
        "# # Drop colums train & test\n",
        "# pubg_num = test.drop(['rankPoints', 'roadKills', 'matchDuration', 'teamKills'] ,axis=1)\n",
        "# test_num = test.drop(['rankPoints', 'roadKills', 'matchDuration', 'teamKills'] ,axis=1)\n",
        "# test_num.head()"
      ]
    },
    {
      "cell_type": "code",
      "execution_count": null,
      "metadata": {
        "id": "rc0v8rOIQ3Sy"
      },
      "outputs": [],
      "source": [
        "## training\n",
        "reg = LinearRegression()\n",
        "reg2 = Lasso()\n",
        "reg3 = Ridge()\n",
        "reg4 = XGBRegressor()\n",
        "reg5 = LGBMRegressor()\n",
        "\n",
        "reg.fit(x_train, y_train)\n",
        "reg2.fit(x_train, y_train)\n",
        "reg3.fit(x_train, y_train)\n",
        "reg4.fit(x_train, y_train)\n",
        "reg5.fit(x_train, y_train)\n",
        "\n",
        "pred_train = reg.predict(x_train)\n",
        "pred_train2 = reg2.predict(x_train)\n",
        "pred_train3 = reg3.predict(x_train)\n",
        "pred_train4 = reg4.predict(x_train)\n",
        "pred_train5 = reg5.predict(x_train)\n",
        "\n",
        "pred_val = reg.predict(x_test)\n",
        "pred_val2 = reg2.predict(x_test)\n",
        "pred_val3 = reg3.predict(x_test)\n",
        "pred_val4 = reg4.predict(x_test)\n",
        "pred_val5 = reg5.predict(x_test)\n",
        "\n",
        "mae_train = mean_absolute_error(y_train, pred_train)\n",
        "mae_val = mean_absolute_error(y_test, pred_val)\n",
        "mae_train2 = mean_absolute_error(y_train, pred_train2)\n",
        "mae_val2 = mean_absolute_error(y_test, pred_val2)\n",
        "mae_train3 = mean_absolute_error(y_train, pred_train3)\n",
        "mae_val3 = mean_absolute_error(y_test, pred_val3)\n",
        "mae_train4 = mean_absolute_error(y_train, pred_train4)\n",
        "mae_val4 = mean_absolute_error(y_test, pred_val4)\n",
        "mae_train5 = mean_absolute_error(y_train, pred_train5)\n",
        "mae_val5 = mean_absolute_error(y_test, pred_val5)\n",
        "\n",
        "\n",
        "print('1. Linear Regression\\t, train=%.4f, val=%.4f' % (mae_train, mae_val))\n",
        "print('2. Lasso\\t\\t, train=%.4f, val=%.4f' % (mae_train2, mae_val2))\n",
        "print('3. Ridge\\t\\t, train=%.4f, val=%.4f' % (mae_train3, mae_val3))\n",
        "print('4. XGBoost\\t\\t, train=%.4f, val=%.4f' % (mae_train4, mae_val4))\n",
        "print('5. LightGBM\\t\\t, train=%.4f, val=%.4f' % (mae_train5, mae_val5))"
      ]
    },
    {
      "cell_type": "code",
      "execution_count": null,
      "metadata": {
        "id": "P9OJxG1dQ3Sz"
      },
      "outputs": [],
      "source": [
        "# prediction!\n",
        "result = reg.predict(x_test)\n",
        "result2 = reg2.predict(x_test)\n",
        "result3 = reg3.predict(x_test)\n",
        "result4 = reg4.predict(x_test)\n",
        "result5 = reg5.predict(x_test)"
      ]
    },
    {
      "cell_type": "code",
      "execution_count": null,
      "metadata": {
        "id": "QkYIxL6bQ3Sz"
      },
      "outputs": [],
      "source": [
        "# Summary!\n",
        "print('---------- Linear Regression ---------')\n",
        "print('MsE in training: %.4f' % mean_absolute_error(y_test, result))\n",
        "\n",
        "print('---------- Lasso ---------')\n",
        "print('MsE in training: %.4f' % mean_absolute_error(y_test, result2))\n",
        "\n",
        "print('---------- Ridge ---------')\n",
        "print('MsE in training: %.4f' % mean_absolute_error(y_test, result3))\n",
        "\n",
        "print('---------- XGBoost ---------')\n",
        "print('MsE in training: %.4f' % mean_absolute_error(y_test, result4))\n",
        "\n",
        "print('---------- LightGBM ---------')\n",
        "print('MsE in training: %.4f' % mean_absolute_error(y_test, result5))"
      ]
    },
    {
      "cell_type": "code",
      "execution_count": null,
      "metadata": {
        "id": "T76hvvLdQ9HE"
      },
      "outputs": [],
      "source": [
        "# Before Drop / After Drop => check"
      ]
    },
    {
      "cell_type": "markdown",
      "metadata": {
        "id": "Wzq8lp1FjNcu"
      },
      "source": [
        "** Before drop colums **\n",
        "\n",
        "---------- Linear Regression ---------\n",
        "\n",
        "MSE in training: 0.0926\n",
        "\n",
        "---------- Lasso ---------\n",
        "\n",
        "MSE in training: 0.1209\n",
        "\n",
        "---------- Ridge ---------\n",
        "\n",
        "MSE in training: 0.0926\n",
        "\n",
        "---------- XGBoost ---------\n",
        "\n",
        "MSE in training: 0.0694\n",
        "\n",
        "---------- LightGBM ---------\n",
        "\n",
        "MSE in training: 0.0603\n",
        "\n",
        "---\n",
        "\n",
        "** After drop columns **\n",
        "\n",
        "---------- Linear Regression ---------\n",
        "\n",
        "MSE in training: 0.0926\n",
        "\n",
        "---------- Lasso ---------\n",
        "\n",
        "MSE in training: 0.1209\n",
        "\n",
        "---------- Ridge ---------\n",
        "\n",
        "MSE in training: 0.0926\n",
        "\n",
        "---------- XGBoost ---------\n",
        "\n",
        "MSE in training: 0.0694\n",
        "\n",
        "---------- LightGBM ---------\n",
        "\n",
        "MSE in training: 0.0603"
      ]
    },
    {
      "cell_type": "code",
      "execution_count": null,
      "metadata": {
        "id": "NBSHP386jkpA"
      },
      "outputs": [],
      "source": [
        "# No change checked."
      ]
    }
  ],
  "metadata": {
    "colab": {
      "collapsed_sections": [],
      "name": "10Jun_01_modeling1st.ipynb",
      "provenance": []
    },
    "interpreter": {
      "hash": "b9409e27236727804db81681b0c1477a489cc167d9337ecd19f8e2105d152b3e"
    },
    "kernelspec": {
      "display_name": "Python 3.8.13 ('yoda')",
      "language": "python",
      "name": "python3"
    },
    "language_info": {
      "codemirror_mode": {
        "name": "ipython",
        "version": 3
      },
      "file_extension": ".py",
      "mimetype": "text/x-python",
      "name": "python",
      "nbconvert_exporter": "python",
      "pygments_lexer": "ipython3",
      "version": "3.8.13"
    }
  },
  "nbformat": 4,
  "nbformat_minor": 0
}